{
  "nbformat": 4,
  "nbformat_minor": 0,
  "metadata": {
    "accelerator": "GPU",
    "colab": {
      "name": "CS2_FinalModel_BS_Subject.ipynb",
      "provenance": [],
      "collapsed_sections": []
    },
    "kernelspec": {
      "display_name": "Python 3",
      "name": "python3"
    }
  },
  "cells": [
    {
      "cell_type": "code",
      "metadata": {
        "colab": {
          "base_uri": "https://localhost:8080/"
        },
        "id": "kD_j4v94OULk",
        "outputId": "4427fc2a-0d1a-4de5-9fc5-27889c1bf074"
      },
      "source": [
        "from google.colab import drive\n",
        "drive.mount('/content/drive')"
      ],
      "execution_count": 3,
      "outputs": [
        {
          "output_type": "stream",
          "text": [
            "Mounted at /content/drive\n"
          ],
          "name": "stdout"
        }
      ]
    },
    {
      "cell_type": "code",
      "metadata": {
        "id": "fFb8xjvWF4sV"
      },
      "source": [
        "import os\r\n",
        "os.chdir('drive/My Drive')"
      ],
      "execution_count": 4,
      "outputs": []
    },
    {
      "cell_type": "code",
      "metadata": {
        "id": "38YhRD0KeWNw"
      },
      "source": [
        "import tensorflow as tf\r\n",
        "tf.compat.v1.enable_eager_execution()\r\n",
        "from tensorflow.keras.layers import TimeDistributed\r\n",
        "tf.keras.backend.clear_session()\r\n",
        "from tensorflow.keras.layers import Input, Softmax, RNN, Dense, Embedding, LSTM\r\n",
        "from tensorflow.keras.models import Model\r\n",
        "import numpy as np\r\n",
        "import pandas as pd\r\n",
        "import warnings\r\n",
        "warnings.filterwarnings('ignore')"
      ],
      "execution_count": 5,
      "outputs": []
    },
    {
      "cell_type": "code",
      "metadata": {
        "id": "oQ2MTkLZOhGl"
      },
      "source": [
        "# !unzip archive.zip"
      ],
      "execution_count": null,
      "outputs": []
    },
    {
      "cell_type": "code",
      "metadata": {
        "id": "R5MSDpOMOk8x"
      },
      "source": [
        "import pandas as pd\r\n",
        "emails = pd.read_csv('emails.csv')"
      ],
      "execution_count": null,
      "outputs": []
    },
    {
      "cell_type": "code",
      "metadata": {
        "colab": {
          "base_uri": "https://localhost:8080/",
          "height": 204
        },
        "id": "_jObjt4lO6tK",
        "outputId": "51c8bd20-0365-4287-f2e5-5edd1051db1f"
      },
      "source": [
        "emails.head()"
      ],
      "execution_count": null,
      "outputs": [
        {
          "output_type": "execute_result",
          "data": {
            "text/html": [
              "<div>\n",
              "<style scoped>\n",
              "    .dataframe tbody tr th:only-of-type {\n",
              "        vertical-align: middle;\n",
              "    }\n",
              "\n",
              "    .dataframe tbody tr th {\n",
              "        vertical-align: top;\n",
              "    }\n",
              "\n",
              "    .dataframe thead th {\n",
              "        text-align: right;\n",
              "    }\n",
              "</style>\n",
              "<table border=\"1\" class=\"dataframe\">\n",
              "  <thead>\n",
              "    <tr style=\"text-align: right;\">\n",
              "      <th></th>\n",
              "      <th>file</th>\n",
              "      <th>message</th>\n",
              "    </tr>\n",
              "  </thead>\n",
              "  <tbody>\n",
              "    <tr>\n",
              "      <th>0</th>\n",
              "      <td>allen-p/_sent_mail/1.</td>\n",
              "      <td>Message-ID: &lt;18782981.1075855378110.JavaMail.e...</td>\n",
              "    </tr>\n",
              "    <tr>\n",
              "      <th>1</th>\n",
              "      <td>allen-p/_sent_mail/10.</td>\n",
              "      <td>Message-ID: &lt;15464986.1075855378456.JavaMail.e...</td>\n",
              "    </tr>\n",
              "    <tr>\n",
              "      <th>2</th>\n",
              "      <td>allen-p/_sent_mail/100.</td>\n",
              "      <td>Message-ID: &lt;24216240.1075855687451.JavaMail.e...</td>\n",
              "    </tr>\n",
              "    <tr>\n",
              "      <th>3</th>\n",
              "      <td>allen-p/_sent_mail/1000.</td>\n",
              "      <td>Message-ID: &lt;13505866.1075863688222.JavaMail.e...</td>\n",
              "    </tr>\n",
              "    <tr>\n",
              "      <th>4</th>\n",
              "      <td>allen-p/_sent_mail/1001.</td>\n",
              "      <td>Message-ID: &lt;30922949.1075863688243.JavaMail.e...</td>\n",
              "    </tr>\n",
              "  </tbody>\n",
              "</table>\n",
              "</div>"
            ],
            "text/plain": [
              "                       file                                            message\n",
              "0     allen-p/_sent_mail/1.  Message-ID: <18782981.1075855378110.JavaMail.e...\n",
              "1    allen-p/_sent_mail/10.  Message-ID: <15464986.1075855378456.JavaMail.e...\n",
              "2   allen-p/_sent_mail/100.  Message-ID: <24216240.1075855687451.JavaMail.e...\n",
              "3  allen-p/_sent_mail/1000.  Message-ID: <13505866.1075863688222.JavaMail.e...\n",
              "4  allen-p/_sent_mail/1001.  Message-ID: <30922949.1075863688243.JavaMail.e..."
            ]
          },
          "metadata": {
            "tags": []
          },
          "execution_count": 5
        }
      ]
    },
    {
      "cell_type": "code",
      "metadata": {
        "colab": {
          "base_uri": "https://localhost:8080/",
          "height": 137
        },
        "id": "O1IjFUb9O8Bj",
        "outputId": "317b30a9-1e65-4ca5-b70c-476a1b74fbfe"
      },
      "source": [
        "emails['message'][1]"
      ],
      "execution_count": null,
      "outputs": [
        {
          "output_type": "execute_result",
          "data": {
            "application/vnd.google.colaboratory.intrinsic+json": {
              "type": "string"
            },
            "text/plain": [
              "\"Message-ID: <15464986.1075855378456.JavaMail.evans@thyme>\\nDate: Fri, 4 May 2001 13:51:00 -0700 (PDT)\\nFrom: phillip.allen@enron.com\\nTo: john.lavorato@enron.com\\nSubject: Re:\\nMime-Version: 1.0\\nContent-Type: text/plain; charset=us-ascii\\nContent-Transfer-Encoding: 7bit\\nX-From: Phillip K Allen\\nX-To: John J Lavorato <John J Lavorato/ENRON@enronXgate@ENRON>\\nX-cc: \\nX-bcc: \\nX-Folder: \\\\Phillip_Allen_Jan2002_1\\\\Allen, Phillip K.\\\\'Sent Mail\\nX-Origin: Allen-P\\nX-FileName: pallen (Non-Privileged).pst\\n\\nTraveling to have a business meeting takes the fun out of the trip.  Especially if you have to prepare a presentation.  I would suggest holding the business plan meetings here then take a trip without any formal business meetings.  I would even try and get some honest opinions on whether a trip is even desired or necessary.\\n\\nAs far as the business meetings, I think it would be more productive to try and stimulate discussions across the different groups about what is working and what is not.  Too often the presenter speaks and the others are quiet just waiting for their turn.   The meetings might be better if held in a round table discussion format.  \\n\\nMy suggestion for where to go is Austin.  Play golf and rent a ski boat and jet ski's.  Flying somewhere takes too much time.\\n\""
            ]
          },
          "metadata": {
            "tags": []
          },
          "execution_count": 26
        }
      ]
    },
    {
      "cell_type": "code",
      "metadata": {
        "id": "GpqvRfKrPQ69"
      },
      "source": [
        "import email\r\n",
        "def parse_func(x):\r\n",
        "  b = email.message_from_string(x)\r\n",
        "  body = ''\r\n",
        "  if b.is_multipart():\r\n",
        "    for payload in b.get_payload():\r\n",
        "      body = body+ ' '\r\n",
        "      body+=payload.get_payload()\r\n",
        "  else:\r\n",
        "    body+=b.get_payload()\r\n",
        "\r\n",
        "  return body"
      ],
      "execution_count": null,
      "outputs": []
    },
    {
      "cell_type": "code",
      "metadata": {
        "id": "tt02EJhL7Pah"
      },
      "source": [
        "def parse_func_subj(x):\r\n",
        "  b = email.message_from_string(x)\r\n",
        "  if b.get('Subject'):\r\n",
        "    subj = b.get('Subject')\r\n",
        "  else:\r\n",
        "    subj = '-'\r\n",
        "  return subj"
      ],
      "execution_count": null,
      "outputs": []
    },
    {
      "cell_type": "code",
      "metadata": {
        "id": "RnHcaJryZdmv"
      },
      "source": [
        "emails['Body'] = emails['message'].apply(parse_func)\r\n",
        "emails['Subject'] = emails['message'].apply(parse_func_subj)"
      ],
      "execution_count": null,
      "outputs": []
    },
    {
      "cell_type": "code",
      "metadata": {
        "colab": {
          "base_uri": "https://localhost:8080/",
          "height": 204
        },
        "id": "_4B_d58k8Zag",
        "outputId": "bb047704-3b93-41f4-c3cd-f956497beeab"
      },
      "source": [
        "emails.tail()"
      ],
      "execution_count": null,
      "outputs": [
        {
          "output_type": "execute_result",
          "data": {
            "text/html": [
              "<div>\n",
              "<style scoped>\n",
              "    .dataframe tbody tr th:only-of-type {\n",
              "        vertical-align: middle;\n",
              "    }\n",
              "\n",
              "    .dataframe tbody tr th {\n",
              "        vertical-align: top;\n",
              "    }\n",
              "\n",
              "    .dataframe thead th {\n",
              "        text-align: right;\n",
              "    }\n",
              "</style>\n",
              "<table border=\"1\" class=\"dataframe\">\n",
              "  <thead>\n",
              "    <tr style=\"text-align: right;\">\n",
              "      <th></th>\n",
              "      <th>file</th>\n",
              "      <th>message</th>\n",
              "      <th>Body</th>\n",
              "      <th>Subject</th>\n",
              "    </tr>\n",
              "  </thead>\n",
              "  <tbody>\n",
              "    <tr>\n",
              "      <th>517396</th>\n",
              "      <td>zufferli-j/sent_items/95.</td>\n",
              "      <td>Message-ID: &lt;26807948.1075842029936.JavaMail.e...</td>\n",
              "      <td>This is a trade with OIL-SPEC-HEDGE-NG (John L...</td>\n",
              "      <td>Trade with John Lavorato</td>\n",
              "    </tr>\n",
              "    <tr>\n",
              "      <th>517397</th>\n",
              "      <td>zufferli-j/sent_items/96.</td>\n",
              "      <td>Message-ID: &lt;25835861.1075842029959.JavaMail.e...</td>\n",
              "      <td>Some of my position is with the Alberta Term b...</td>\n",
              "      <td>Gas Hedges</td>\n",
              "    </tr>\n",
              "    <tr>\n",
              "      <th>517398</th>\n",
              "      <td>zufferli-j/sent_items/97.</td>\n",
              "      <td>Message-ID: &lt;28979867.1075842029988.JavaMail.e...</td>\n",
              "      <td>2\\n\\n -----Original Message-----\\nFrom: \\tDouc...</td>\n",
              "      <td>RE: CONFIDENTIAL</td>\n",
              "    </tr>\n",
              "    <tr>\n",
              "      <th>517399</th>\n",
              "      <td>zufferli-j/sent_items/98.</td>\n",
              "      <td>Message-ID: &lt;22052556.1075842030013.JavaMail.e...</td>\n",
              "      <td>Analyst\\t\\t\\t\\t\\tRank\\n\\nStephane Brodeur\\t\\t\\...</td>\n",
              "      <td>Calgary Analyst/Associate</td>\n",
              "    </tr>\n",
              "    <tr>\n",
              "      <th>517400</th>\n",
              "      <td>zufferli-j/sent_items/99.</td>\n",
              "      <td>Message-ID: &lt;28618979.1075842030037.JavaMail.e...</td>\n",
              "      <td>i think the YMCA has a class that is for peopl...</td>\n",
              "      <td>RE: ali's essays</td>\n",
              "    </tr>\n",
              "  </tbody>\n",
              "</table>\n",
              "</div>"
            ],
            "text/plain": [
              "                             file  ...                    Subject\n",
              "517396  zufferli-j/sent_items/95.  ...   Trade with John Lavorato\n",
              "517397  zufferli-j/sent_items/96.  ...                 Gas Hedges\n",
              "517398  zufferli-j/sent_items/97.  ...           RE: CONFIDENTIAL\n",
              "517399  zufferli-j/sent_items/98.  ...  Calgary Analyst/Associate\n",
              "517400  zufferli-j/sent_items/99.  ...           RE: ali's essays\n",
              "\n",
              "[5 rows x 4 columns]"
            ]
          },
          "metadata": {
            "tags": []
          },
          "execution_count": 31
        }
      ]
    },
    {
      "cell_type": "code",
      "metadata": {
        "id": "MozTKVkO8AHm"
      },
      "source": [
        "def decontractions(phrase):\r\n",
        "  \"\"\"decontracted takes text and convert contractions into natural form.\r\n",
        "     ref: https://stackoverflow.com/questions/19790188/expanding-english-language-contractions-in-python/47091490#47091490\"\"\"\r\n",
        "\r\n",
        "  # specific\r\n",
        "  phrase = re.sub(r\"won\\'t\", \"will not\", phrase)\r\n",
        "  phrase = re.sub(r\"can\\'t\", \"can not\", phrase)\r\n",
        "  phrase = re.sub(r\"won\\’t\", \"will not\", phrase)\r\n",
        "  phrase = re.sub(r\"can\\’t\", \"can not\", phrase)\r\n",
        "\r\n",
        "  # general\r\n",
        "  phrase = re.sub(r\"n\\'t\", \" not\", phrase)\r\n",
        "  phrase = re.sub(r\"\\'re\", \" are\", phrase)\r\n",
        "  phrase = re.sub(r\"\\'s\", \" is\", phrase)\r\n",
        "  phrase = re.sub(r\"\\'d\", \" would\", phrase)\r\n",
        "  phrase = re.sub(r\"\\'ll\", \" will\", phrase)\r\n",
        "  phrase = re.sub(r\"\\'t\", \" not\", phrase)\r\n",
        "  phrase = re.sub(r\"\\'ve\", \" have\", phrase)\r\n",
        "  phrase = re.sub(r\"\\'m\", \" am\", phrase)\r\n",
        "\r\n",
        "  phrase = re.sub(r\"n\\’t\", \" not\", phrase)\r\n",
        "  phrase = re.sub(r\"\\’re\", \" are\", phrase)\r\n",
        "  phrase = re.sub(r\"\\’s\", \" is\", phrase)\r\n",
        "  phrase = re.sub(r\"\\’d\", \" would\", phrase)\r\n",
        "  phrase = re.sub(r\"\\’ll\", \" will\", phrase)\r\n",
        "  phrase = re.sub(r\"\\’t\", \" not\", phrase)\r\n",
        "  phrase = re.sub(r\"\\’ve\", \" have\", phrase)\r\n",
        "  phrase = re.sub(r\"\\’m\", \" am\", phrase)\r\n",
        "\r\n",
        "  return phrase"
      ],
      "execution_count": null,
      "outputs": []
    },
    {
      "cell_type": "code",
      "metadata": {
        "id": "jZb2g2JyZj5L"
      },
      "source": [
        "'''Take the raw email body as input and clean the unnecessary text like \\n,\\t etc and also keep only alphabets and full stop(.)(for sentence separation)\r\n",
        "and replace extra spaces with one space and return clean text'''\r\n",
        "\r\n",
        "import re\r\n",
        "body = []\r\n",
        "for text in emails['Body']:\r\n",
        "  text = decontractions(text)\r\n",
        "  text = re.sub(r\"\\n|\\t\", ' ', text)\r\n",
        "  text = re.sub(\"[^a-zA-Z\\s.]+\",' ',text)\r\n",
        "  text = re.sub(\"\\s+\", ' ', text)\r\n",
        "  body.append(text)\r\n",
        "emails['Processed_Text'] = body\r\n"
      ],
      "execution_count": null,
      "outputs": []
    },
    {
      "cell_type": "code",
      "metadata": {
        "colab": {
          "base_uri": "https://localhost:8080/",
          "height": 589
        },
        "id": "zKklTMHEH_J0",
        "outputId": "bc9f1983-0653-4a33-b9ed-1fbc8fdb7d48"
      },
      "source": [
        "'''Clean the subject of the mail by following the same steps as cleaning the email body including removing 're:' '''\r\n",
        "\r\n",
        "body = []\r\n",
        "for text in emails['Subject']:\r\n",
        "  text = text.lower()\r\n",
        "  text = re.sub('re:','',text)\r\n",
        "  text = decontractions(text)\r\n",
        "  text = re.sub(r\"\\n|\\t\", ' ', text)\r\n",
        "  text = re.sub(\"[^a-zA-Z\\s.]+\",' ',text)\r\n",
        "  text = re.sub(\"\\s+\", ' ', text)\r\n",
        "  body.append(text.strip())\r\n",
        "emails['Processed_Subject'] = body\r\n",
        "emails"
      ],
      "execution_count": null,
      "outputs": [
        {
          "output_type": "execute_result",
          "data": {
            "text/html": [
              "<div>\n",
              "<style scoped>\n",
              "    .dataframe tbody tr th:only-of-type {\n",
              "        vertical-align: middle;\n",
              "    }\n",
              "\n",
              "    .dataframe tbody tr th {\n",
              "        vertical-align: top;\n",
              "    }\n",
              "\n",
              "    .dataframe thead th {\n",
              "        text-align: right;\n",
              "    }\n",
              "</style>\n",
              "<table border=\"1\" class=\"dataframe\">\n",
              "  <thead>\n",
              "    <tr style=\"text-align: right;\">\n",
              "      <th></th>\n",
              "      <th>file</th>\n",
              "      <th>message</th>\n",
              "      <th>Body</th>\n",
              "      <th>Subject</th>\n",
              "      <th>Processed_Text</th>\n",
              "      <th>Processed_Subject</th>\n",
              "    </tr>\n",
              "  </thead>\n",
              "  <tbody>\n",
              "    <tr>\n",
              "      <th>0</th>\n",
              "      <td>allen-p/_sent_mail/1.</td>\n",
              "      <td>Message-ID: &lt;18782981.1075855378110.JavaMail.e...</td>\n",
              "      <td>Here is our forecast\\n\\n</td>\n",
              "      <td>-</td>\n",
              "      <td>Here is our forecast</td>\n",
              "      <td></td>\n",
              "    </tr>\n",
              "    <tr>\n",
              "      <th>1</th>\n",
              "      <td>allen-p/_sent_mail/10.</td>\n",
              "      <td>Message-ID: &lt;15464986.1075855378456.JavaMail.e...</td>\n",
              "      <td>Traveling to have a business meeting takes the...</td>\n",
              "      <td>Re:</td>\n",
              "      <td>Traveling to have a business meeting takes the...</td>\n",
              "      <td></td>\n",
              "    </tr>\n",
              "    <tr>\n",
              "      <th>2</th>\n",
              "      <td>allen-p/_sent_mail/100.</td>\n",
              "      <td>Message-ID: &lt;24216240.1075855687451.JavaMail.e...</td>\n",
              "      <td>test successful.  way to go!!!</td>\n",
              "      <td>Re: test</td>\n",
              "      <td>test successful. way to go</td>\n",
              "      <td>test</td>\n",
              "    </tr>\n",
              "    <tr>\n",
              "      <th>3</th>\n",
              "      <td>allen-p/_sent_mail/1000.</td>\n",
              "      <td>Message-ID: &lt;13505866.1075863688222.JavaMail.e...</td>\n",
              "      <td>Randy,\\n\\n Can you send me a schedule of the s...</td>\n",
              "      <td>-</td>\n",
              "      <td>Randy Can you send me a schedule of the salary...</td>\n",
              "      <td></td>\n",
              "    </tr>\n",
              "    <tr>\n",
              "      <th>4</th>\n",
              "      <td>allen-p/_sent_mail/1001.</td>\n",
              "      <td>Message-ID: &lt;30922949.1075863688243.JavaMail.e...</td>\n",
              "      <td>Let's shoot for Tuesday at 11:45.</td>\n",
              "      <td>Re: Hello</td>\n",
              "      <td>Let is shoot for Tuesday at .</td>\n",
              "      <td>hello</td>\n",
              "    </tr>\n",
              "    <tr>\n",
              "      <th>...</th>\n",
              "      <td>...</td>\n",
              "      <td>...</td>\n",
              "      <td>...</td>\n",
              "      <td>...</td>\n",
              "      <td>...</td>\n",
              "      <td>...</td>\n",
              "    </tr>\n",
              "    <tr>\n",
              "      <th>517396</th>\n",
              "      <td>zufferli-j/sent_items/95.</td>\n",
              "      <td>Message-ID: &lt;26807948.1075842029936.JavaMail.e...</td>\n",
              "      <td>This is a trade with OIL-SPEC-HEDGE-NG (John L...</td>\n",
              "      <td>Trade with John Lavorato</td>\n",
              "      <td>This is a trade with OIL SPEC HEDGE NG John La...</td>\n",
              "      <td>trade with john lavorato</td>\n",
              "    </tr>\n",
              "    <tr>\n",
              "      <th>517397</th>\n",
              "      <td>zufferli-j/sent_items/96.</td>\n",
              "      <td>Message-ID: &lt;25835861.1075842029959.JavaMail.e...</td>\n",
              "      <td>Some of my position is with the Alberta Term b...</td>\n",
              "      <td>Gas Hedges</td>\n",
              "      <td>Some of my position is with the Alberta Term b...</td>\n",
              "      <td>gas hedges</td>\n",
              "    </tr>\n",
              "    <tr>\n",
              "      <th>517398</th>\n",
              "      <td>zufferli-j/sent_items/97.</td>\n",
              "      <td>Message-ID: &lt;28979867.1075842029988.JavaMail.e...</td>\n",
              "      <td>2\\n\\n -----Original Message-----\\nFrom: \\tDouc...</td>\n",
              "      <td>RE: CONFIDENTIAL</td>\n",
              "      <td>Original Message From Doucet Dawn Sent Wednes...</td>\n",
              "      <td>confidential</td>\n",
              "    </tr>\n",
              "    <tr>\n",
              "      <th>517399</th>\n",
              "      <td>zufferli-j/sent_items/98.</td>\n",
              "      <td>Message-ID: &lt;22052556.1075842030013.JavaMail.e...</td>\n",
              "      <td>Analyst\\t\\t\\t\\t\\tRank\\n\\nStephane Brodeur\\t\\t\\...</td>\n",
              "      <td>Calgary Analyst/Associate</td>\n",
              "      <td>Analyst Rank Stephane Brodeur Chad Clark Ian C...</td>\n",
              "      <td>calgary analyst associate</td>\n",
              "    </tr>\n",
              "    <tr>\n",
              "      <th>517400</th>\n",
              "      <td>zufferli-j/sent_items/99.</td>\n",
              "      <td>Message-ID: &lt;28618979.1075842030037.JavaMail.e...</td>\n",
              "      <td>i think the YMCA has a class that is for peopl...</td>\n",
              "      <td>RE: ali's essays</td>\n",
              "      <td>i think the YMCA has a class that is for peopl...</td>\n",
              "      <td>ali is essays</td>\n",
              "    </tr>\n",
              "  </tbody>\n",
              "</table>\n",
              "<p>517401 rows × 6 columns</p>\n",
              "</div>"
            ],
            "text/plain": [
              "                             file  ...          Processed_Subject\n",
              "0           allen-p/_sent_mail/1.  ...                           \n",
              "1          allen-p/_sent_mail/10.  ...                           \n",
              "2         allen-p/_sent_mail/100.  ...                       test\n",
              "3        allen-p/_sent_mail/1000.  ...                           \n",
              "4        allen-p/_sent_mail/1001.  ...                      hello\n",
              "...                           ...  ...                        ...\n",
              "517396  zufferli-j/sent_items/95.  ...   trade with john lavorato\n",
              "517397  zufferli-j/sent_items/96.  ...                 gas hedges\n",
              "517398  zufferli-j/sent_items/97.  ...               confidential\n",
              "517399  zufferli-j/sent_items/98.  ...  calgary analyst associate\n",
              "517400  zufferli-j/sent_items/99.  ...              ali is essays\n",
              "\n",
              "[517401 rows x 6 columns]"
            ]
          },
          "metadata": {
            "tags": []
          },
          "execution_count": 35
        }
      ]
    },
    {
      "cell_type": "code",
      "metadata": {
        "colab": {
          "base_uri": "https://localhost:8080/"
        },
        "id": "F_3RQ64Ya3Xy",
        "outputId": "48bfeac4-4025-4495-8011-93688f4f863d"
      },
      "source": [
        "import matplotlib.pyplot as plt\r\n",
        "char_lengths = pd.Series([len(str(x)) for x in emails['Processed_Text']])\r\n",
        "\r\n",
        "char_lengths.describe()"
      ],
      "execution_count": null,
      "outputs": [
        {
          "output_type": "execute_result",
          "data": {
            "text/plain": [
              "count    3.447290e+05\n",
              "mean     1.413327e+03\n",
              "std      8.441524e+03\n",
              "min      1.000000e+00\n",
              "25%      1.650000e+02\n",
              "50%      4.220000e+02\n",
              "75%      1.099000e+03\n",
              "max      1.984612e+06\n",
              "dtype: float64"
            ]
          },
          "metadata": {
            "tags": []
          },
          "execution_count": 39
        }
      ]
    },
    {
      "cell_type": "markdown",
      "metadata": {
        "id": "fTuKRyOHoBV-"
      },
      "source": [
        "We took the character lengths from each email and the stats are as follows.\r\n",
        "\r\n",
        "-Minimum value is 0 which means after cleaning some mails have 0 characters. We can remove them from our data as they wont be of any use. \r\n",
        "-Maximum value is 18 lakhs which is definitely an outlier. It might be mistakenly entered into the data or some particular mails might be lengthy. \r\n",
        "-We understood the above are outliers from the 75th percentile of data. Lenght is 1.5k which is normal length. \r\n",
        "\r\n",
        "To analyse further we shall see the sentence lengths and word lenghts of emails."
      ]
    },
    {
      "cell_type": "code",
      "metadata": {
        "colab": {
          "base_uri": "https://localhost:8080/"
        },
        "id": "ZR6KwDoZnKZ3",
        "outputId": "da2ba1ed-bd91-4057-b136-aab545521d6a"
      },
      "source": [
        "sentences = pd.Series([len(str(x).split('.')) for x in emails['Processed_Text']])\r\n",
        "sentences.describe()"
      ],
      "execution_count": null,
      "outputs": [
        {
          "output_type": "execute_result",
          "data": {
            "text/plain": [
              "count    344729.000000\n",
              "mean         19.256906\n",
              "std          74.460999\n",
              "min           1.000000\n",
              "25%           3.000000\n",
              "50%           7.000000\n",
              "75%          14.000000\n",
              "max       10520.000000\n",
              "dtype: float64"
            ]
          },
          "metadata": {
            "tags": []
          },
          "execution_count": 40
        }
      ]
    },
    {
      "cell_type": "code",
      "metadata": {
        "colab": {
          "base_uri": "https://localhost:8080/",
          "height": 708
        },
        "id": "RMcbpC94vQnH",
        "outputId": "d7ef4d0c-bff0-4678-81d7-3c31aebec036"
      },
      "source": [
        "emails['no_of_sent'] = sentences\r\n",
        "emails[emails['no_of_sent']>40]"
      ],
      "execution_count": null,
      "outputs": [
        {
          "output_type": "execute_result",
          "data": {
            "text/html": [
              "<div>\n",
              "<style scoped>\n",
              "    .dataframe tbody tr th:only-of-type {\n",
              "        vertical-align: middle;\n",
              "    }\n",
              "\n",
              "    .dataframe tbody tr th {\n",
              "        vertical-align: top;\n",
              "    }\n",
              "\n",
              "    .dataframe thead th {\n",
              "        text-align: right;\n",
              "    }\n",
              "</style>\n",
              "<table border=\"1\" class=\"dataframe\">\n",
              "  <thead>\n",
              "    <tr style=\"text-align: right;\">\n",
              "      <th></th>\n",
              "      <th>file</th>\n",
              "      <th>message</th>\n",
              "      <th>Body</th>\n",
              "      <th>Subject</th>\n",
              "      <th>Processed_Text</th>\n",
              "      <th>Processed_Subject</th>\n",
              "      <th>no_of_sent</th>\n",
              "    </tr>\n",
              "  </thead>\n",
              "  <tbody>\n",
              "    <tr>\n",
              "      <th>323</th>\n",
              "      <td>allen-p/_sent_mail/557.</td>\n",
              "      <td>Message-ID: &lt;16004214.1075855728430.JavaMail.e...</td>\n",
              "      <td>By STEVE EVERLY - The Kansas City Star\\nDate: ...</td>\n",
              "      <td>-</td>\n",
              "      <td>By STEVE EVERLY The Kansas City Star Date As n...</td>\n",
              "      <td></td>\n",
              "      <td>84</td>\n",
              "    </tr>\n",
              "    <tr>\n",
              "      <th>392</th>\n",
              "      <td>allen-p/all_documents/1.</td>\n",
              "      <td>Message-ID: &lt;29790972.1075855665306.JavaMail.e...</td>\n",
              "      <td>In today's Daily Update you'll find free repor...</td>\n",
              "      <td>December 14, 2000 - Bear Stearns' predictions ...</td>\n",
              "      <td>In today is Daily Update you will find free re...</td>\n",
              "      <td>december bear stearns predictions for telecom ...</td>\n",
              "      <td>135</td>\n",
              "    </tr>\n",
              "    <tr>\n",
              "      <th>393</th>\n",
              "      <td>allen-p/all_documents/10.</td>\n",
              "      <td>Message-ID: &lt;21975671.1075855665520.JavaMail.e...</td>\n",
              "      <td>Here is today's copy of Bloomberg Power Lines....</td>\n",
              "      <td>Bloomberg Power Lines Report</td>\n",
              "      <td>Here is today is copy of Bloomberg Power Lines...</td>\n",
              "      <td>bloomberg power lines report</td>\n",
              "      <td>385</td>\n",
              "    </tr>\n",
              "    <tr>\n",
              "      <th>456</th>\n",
              "      <td>allen-p/all_documents/19.</td>\n",
              "      <td>Message-ID: &lt;29399491.1075855665902.JavaMail.e...</td>\n",
              "      <td>Y-Life Daily Bulletin: December 13, 2000\\n\\nNo...</td>\n",
              "      <td>Y-Life Daily: Bush will almost definitely be p...</td>\n",
              "      <td>Y Life Daily Bulletin December Note If your e ...</td>\n",
              "      <td>y life daily bush will almost definitely be pr...</td>\n",
              "      <td>124</td>\n",
              "    </tr>\n",
              "    <tr>\n",
              "      <th>463</th>\n",
              "      <td>allen-p/all_documents/2.</td>\n",
              "      <td>Message-ID: &lt;31189653.1075855665329.JavaMail.e...</td>\n",
              "      <td>As requested, here is the December Autoweb.com...</td>\n",
              "      <td>December Newsletter - Factory Incentives are a...</td>\n",
              "      <td>As requested here is the December Autoweb.com ...</td>\n",
              "      <td>december newsletter factory incentives are at ...</td>\n",
              "      <td>68</td>\n",
              "    </tr>\n",
              "    <tr>\n",
              "      <th>...</th>\n",
              "      <td>...</td>\n",
              "      <td>...</td>\n",
              "      <td>...</td>\n",
              "      <td>...</td>\n",
              "      <td>...</td>\n",
              "      <td>...</td>\n",
              "      <td>...</td>\n",
              "    </tr>\n",
              "    <tr>\n",
              "      <th>344556</th>\n",
              "      <td>zufferli-j/deleted_items/82.</td>\n",
              "      <td>Message-ID: &lt;2065626.1075842023405.JavaMail.ev...</td>\n",
              "      <td>&lt;html&gt;&lt;head&gt;&lt;/head&gt;\\n&lt;body bgcolor=\"#ffffff\"&gt;&lt;...</td>\n",
              "      <td>Extended Websaver continues through January</td>\n",
              "      <td>html head head body bgcolor ffffff font color...</td>\n",
              "      <td>extended websaver continues through january</td>\n",
              "      <td>258</td>\n",
              "    </tr>\n",
              "    <tr>\n",
              "      <th>344561</th>\n",
              "      <td>zufferli-j/deleted_items/9.</td>\n",
              "      <td>Message-ID: &lt;3341011.1075842020660.JavaMail.ev...</td>\n",
              "      <td>\\n[IMAGE]=09\\n\\n\\n[IMAGE] [IMAGE][IMAGE][IMAGE...</td>\n",
              "      <td>Syncrasy Daily Trader Summary for Wed, Feb 06,...</td>\n",
              "      <td>IMAGE IMAGE IMAGE IMAGE IMAGE IMAGE IMAGE IMA...</td>\n",
              "      <td>syncrasy daily trader summary for wed feb</td>\n",
              "      <td>134</td>\n",
              "    </tr>\n",
              "    <tr>\n",
              "      <th>344564</th>\n",
              "      <td>zufferli-j/deleted_items/92.</td>\n",
              "      <td>Message-ID: &lt;11314126.1075842023658.JavaMail.e...</td>\n",
              "      <td>\\n[IMAGE]=09\\n\\n\\n[IMAGE] [IMAGE][IMAGE][IMAGE...</td>\n",
              "      <td>Syncrasy Daily Trader Summary for Tue, Jan 29,...</td>\n",
              "      <td>IMAGE IMAGE IMAGE IMAGE IMAGE IMAGE IMAGE IMA...</td>\n",
              "      <td>syncrasy daily trader summary for tue jan</td>\n",
              "      <td>142</td>\n",
              "    </tr>\n",
              "    <tr>\n",
              "      <th>344565</th>\n",
              "      <td>zufferli-j/deleted_items/93.</td>\n",
              "      <td>Message-ID: &lt;3550151.1075842023814.JavaMail.ev...</td>\n",
              "      <td>\\n\\nTransmission Expansion and Systems in Tran...</td>\n",
              "      <td>Upcoming Conferences</td>\n",
              "      <td>Transmission Expansion and Systems in Transit...</td>\n",
              "      <td>upcoming conferences</td>\n",
              "      <td>43</td>\n",
              "    </tr>\n",
              "    <tr>\n",
              "      <th>344622</th>\n",
              "      <td>zufferli-j/inbox/quotes/32.</td>\n",
              "      <td>Message-ID: &lt;21065884.1075842026997.JavaMail.e...</td>\n",
              "      <td>&lt;&lt;Trades for 3/1/02&gt;&gt;  &lt;&lt;Trades for 2/1/02&gt;&gt; ...</td>\n",
              "      <td>Trades and end of day marks</td>\n",
              "      <td>Trades for Trades for Trades for For trades w...</td>\n",
              "      <td>trades and end of day marks</td>\n",
              "      <td>124</td>\n",
              "    </tr>\n",
              "  </tbody>\n",
              "</table>\n",
              "<p>26866 rows × 7 columns</p>\n",
              "</div>"
            ],
            "text/plain": [
              "                                file  ... no_of_sent\n",
              "323          allen-p/_sent_mail/557.  ...         84\n",
              "392         allen-p/all_documents/1.  ...        135\n",
              "393        allen-p/all_documents/10.  ...        385\n",
              "456        allen-p/all_documents/19.  ...        124\n",
              "463         allen-p/all_documents/2.  ...         68\n",
              "...                              ...  ...        ...\n",
              "344556  zufferli-j/deleted_items/82.  ...        258\n",
              "344561   zufferli-j/deleted_items/9.  ...        134\n",
              "344564  zufferli-j/deleted_items/92.  ...        142\n",
              "344565  zufferli-j/deleted_items/93.  ...         43\n",
              "344622   zufferli-j/inbox/quotes/32.  ...        124\n",
              "\n",
              "[26866 rows x 7 columns]"
            ]
          },
          "metadata": {
            "tags": []
          },
          "execution_count": 42
        }
      ]
    },
    {
      "cell_type": "markdown",
      "metadata": {
        "id": "1nLMQ9-8rWxl"
      },
      "source": [
        "Median sentence length is 9 sentences per email. As we saw above, there are outliers. Since our task is sentence completion, we can extract sentences from emails to create each sentence as a data point. After analysing the emails with high number of sentences, we found that mail is having multiple mails in a mail chain. So we need to see how to separate out the text from the data. Also we need to remove parts like Forwarded by, To, Cc, From etc from the text that have many sentences."
      ]
    },
    {
      "cell_type": "markdown",
      "metadata": {
        "id": "Ssw86F5MvkAI"
      },
      "source": [
        "#Data Preparation"
      ]
    },
    {
      "cell_type": "markdown",
      "metadata": {
        "id": "d8wmo5p-OuOE"
      },
      "source": [
        "In some rows, there are mails that were forwarded by so we remove such emails as we want clean data."
      ]
    },
    {
      "cell_type": "code",
      "metadata": {
        "colab": {
          "base_uri": "https://localhost:8080/"
        },
        "id": "cfWJfAIYFSib",
        "outputId": "942867e5-ac78-45e4-b09f-93052768fb38"
      },
      "source": [
        "'''To remove emails that has the words Original Message or Forwarded by'''\r\n",
        "remove=[]\r\n",
        "for i in emails.index:\r\n",
        "  text = emails.loc[i]['Body']\r\n",
        "  if ('Original Message' in text) or ('Forwarded by' in text):\r\n",
        "    remove.append(i)\r\n",
        "\r\n",
        "emails.drop(remove,axis=0,inplace=True)\r\n",
        "emails.reset_index(drop=True,inplace=True)\r\n",
        "emails.info()"
      ],
      "execution_count": null,
      "outputs": [
        {
          "output_type": "stream",
          "text": [
            "<class 'pandas.core.frame.DataFrame'>\n",
            "RangeIndex: 344729 entries, 0 to 344728\n",
            "Data columns (total 6 columns):\n",
            " #   Column             Non-Null Count   Dtype \n",
            "---  ------             --------------   ----- \n",
            " 0   file               344729 non-null  object\n",
            " 1   message            344729 non-null  object\n",
            " 2   Body               344729 non-null  object\n",
            " 3   Subject            344729 non-null  object\n",
            " 4   Processed_Text     344729 non-null  object\n",
            " 5   Processed_Subject  344729 non-null  object\n",
            "dtypes: object(6)\n",
            "memory usage: 15.8+ MB\n"
          ],
          "name": "stdout"
        }
      ]
    },
    {
      "cell_type": "code",
      "metadata": {
        "id": "ljuICXNpnE3j"
      },
      "source": [
        "emails_original = emails"
      ],
      "execution_count": null,
      "outputs": []
    },
    {
      "cell_type": "markdown",
      "metadata": {
        "id": "6OoWzwz9j5rL"
      },
      "source": [
        "##Short sentences"
      ]
    },
    {
      "cell_type": "markdown",
      "metadata": {
        "id": "-0yAIHJrOQBa"
      },
      "source": [
        "Since there are many emails that have large number of sentences because there are mail chains present in the mails. Also in those chains there is a lot of unwanted text which won't be of any use for us. So we here take emails that have less than 10 sentences for our task. "
      ]
    },
    {
      "cell_type": "code",
      "metadata": {
        "colab": {
          "base_uri": "https://localhost:8080/"
        },
        "id": "KFomfQvHltFq",
        "outputId": "2040facc-ad03-477f-8b3f-84dda5bd3a3f"
      },
      "source": [
        "'''Take mails that have less than 10 sentences'''\r\n",
        "emails = emails_original[emails_original['no_of_sent']<10]\r\n",
        "emails.reset_index(drop=True,inplace=True)\r\n",
        "emails.info()"
      ],
      "execution_count": null,
      "outputs": [
        {
          "output_type": "stream",
          "text": [
            "<class 'pandas.core.frame.DataFrame'>\n",
            "RangeIndex: 216479 entries, 0 to 216478\n",
            "Data columns (total 7 columns):\n",
            " #   Column             Non-Null Count   Dtype \n",
            "---  ------             --------------   ----- \n",
            " 0   file               216479 non-null  object\n",
            " 1   message            216479 non-null  object\n",
            " 2   Body               216479 non-null  object\n",
            " 3   Subject            216479 non-null  object\n",
            " 4   Processed_Text     216479 non-null  object\n",
            " 5   Processed_Subject  216479 non-null  object\n",
            " 6   no_of_sent         216479 non-null  int64 \n",
            "dtypes: int64(1), object(6)\n",
            "memory usage: 11.6+ MB\n"
          ],
          "name": "stdout"
        }
      ]
    },
    {
      "cell_type": "code",
      "metadata": {
        "id": "2mJu6H0moDUg"
      },
      "source": [
        "'''Take sentences which have word length in range 5 and 12, split the sentence at each word to prepare inputs and outputs. \r\n",
        "To inputs add subject of the mail'''\r\n",
        "\r\n",
        "input = []\r\n",
        "output = []\r\n",
        "for i in emails.index:\r\n",
        "  subject = emails.loc[i]['Processed_Subject']\r\n",
        "  sentences = emails.loc[i]['Processed_Text'].split('.')\r\n",
        "  for sent in sentences:\r\n",
        "    sent = sent.lower()\r\n",
        "    noof_words = len(sent.split())\r\n",
        "    if noof_words in range(5,13):\r\n",
        "      # half = int(noof_words/2)\r\n",
        "      words = sent.split()\r\n",
        "      for i in range(3,noof_words):\r\n",
        "        if i%3==0:\r\n",
        "          if noof_words-i>=4:\r\n",
        "            input.append(' '.join(subject.split()[:5]+words[:i]))\r\n",
        "            output.append(' '.join(words[i:i+4]))\r\n",
        "        elif i%3==1:\r\n",
        "          if noof_words-i>=3:\r\n",
        "            input.append(' '.join(subject.split()[:5]+words[:i]))\r\n",
        "            output.append(' '.join(words[i:i+3]))\r\n",
        "        else:\r\n",
        "          if noof_words-i>=2:\r\n",
        "            input.append(' '.join(subject.split()[:5]+words[:i]))\r\n",
        "            output.append(' '.join(words[i:i+2]))\r\n",
        "\r\n"
      ],
      "execution_count": null,
      "outputs": []
    },
    {
      "cell_type": "code",
      "metadata": {
        "colab": {
          "base_uri": "https://localhost:8080/",
          "height": 204
        },
        "id": "INA6erPxoTHN",
        "outputId": "d884a6b3-8ff5-4d3c-e53e-f1e9f5100a6e"
      },
      "source": [
        "data_short = pd.DataFrame(columns=['input','output'])\r\n",
        "data_short['input']=input\r\n",
        "data_short['output']=output\r\n",
        "data_short.head()"
      ],
      "execution_count": null,
      "outputs": [
        {
          "output_type": "execute_result",
          "data": {
            "text/html": [
              "<div>\n",
              "<style scoped>\n",
              "    .dataframe tbody tr th:only-of-type {\n",
              "        vertical-align: middle;\n",
              "    }\n",
              "\n",
              "    .dataframe tbody tr th {\n",
              "        vertical-align: top;\n",
              "    }\n",
              "\n",
              "    .dataframe thead th {\n",
              "        text-align: right;\n",
              "    }\n",
              "</style>\n",
              "<table border=\"1\" class=\"dataframe\">\n",
              "  <thead>\n",
              "    <tr style=\"text-align: right;\">\n",
              "      <th></th>\n",
              "      <th>input</th>\n",
              "      <th>output</th>\n",
              "    </tr>\n",
              "  </thead>\n",
              "  <tbody>\n",
              "    <tr>\n",
              "      <th>0</th>\n",
              "      <td>plus your thoughts</td>\n",
              "      <td>on any changes that</td>\n",
              "    </tr>\n",
              "    <tr>\n",
              "      <th>1</th>\n",
              "      <td>plus your thoughts on</td>\n",
              "      <td>any changes that</td>\n",
              "    </tr>\n",
              "    <tr>\n",
              "      <th>2</th>\n",
              "      <td>plus your thoughts on any</td>\n",
              "      <td>changes that</td>\n",
              "    </tr>\n",
              "    <tr>\n",
              "      <th>3</th>\n",
              "      <td>plus your thoughts on any changes</td>\n",
              "      <td>that need to be</td>\n",
              "    </tr>\n",
              "    <tr>\n",
              "      <th>4</th>\n",
              "      <td>plus your thoughts on any changes that</td>\n",
              "      <td>need to be</td>\n",
              "    </tr>\n",
              "  </tbody>\n",
              "</table>\n",
              "</div>"
            ],
            "text/plain": [
              "                                    input               output\n",
              "0                      plus your thoughts  on any changes that\n",
              "1                   plus your thoughts on     any changes that\n",
              "2               plus your thoughts on any         changes that\n",
              "3       plus your thoughts on any changes      that need to be\n",
              "4  plus your thoughts on any changes that           need to be"
            ]
          },
          "metadata": {
            "tags": []
          },
          "execution_count": 73
        }
      ]
    },
    {
      "cell_type": "markdown",
      "metadata": {
        "id": "G2ET0oZGj-hK"
      },
      "source": [
        "##Longer sentences"
      ]
    },
    {
      "cell_type": "code",
      "metadata": {
        "colab": {
          "base_uri": "https://localhost:8080/"
        },
        "id": "_Cn3PBlZvmEE",
        "outputId": "37403fbf-f1f9-4f61-d058-6993cf8af248"
      },
      "source": [
        "emails = emails_original[emails_original['no_of_sent']<10]\r\n",
        "emails.reset_index(drop=True,inplace=True)\r\n",
        "emails.info()"
      ],
      "execution_count": null,
      "outputs": [
        {
          "output_type": "stream",
          "text": [
            "<class 'pandas.core.frame.DataFrame'>\n",
            "RangeIndex: 216479 entries, 0 to 216478\n",
            "Data columns (total 7 columns):\n",
            " #   Column             Non-Null Count   Dtype \n",
            "---  ------             --------------   ----- \n",
            " 0   file               216479 non-null  object\n",
            " 1   message            216479 non-null  object\n",
            " 2   Body               216479 non-null  object\n",
            " 3   Subject            216479 non-null  object\n",
            " 4   Processed_Text     216479 non-null  object\n",
            " 5   Processed_Subject  216479 non-null  object\n",
            " 6   no_of_sent         216479 non-null  int64 \n",
            "dtypes: int64(1), object(6)\n",
            "memory usage: 11.6+ MB\n"
          ],
          "name": "stdout"
        }
      ]
    },
    {
      "cell_type": "code",
      "metadata": {
        "id": "3K-YeFLb4Vty"
      },
      "source": [
        "'''Take sentences which have word length in range 10 and 14, split the sentence at each word to prepare inputs and outputs. \r\n",
        "To inputs add subject of the mail'''\r\n",
        "\r\n",
        "import random\r\n",
        "input = []\r\n",
        "output = []\r\n",
        "for i in emails.index:\r\n",
        "  subject = emails.loc[i]['Processed_Subject']\r\n",
        "  sentences = emails.loc[i]['Processed_Text'].split('.')\r\n",
        "  for sent in sentences:\r\n",
        "    sent = sent.lower()\r\n",
        "    noof_words = len(sent.split())\r\n",
        "    if noof_words in range(10,15):\r\n",
        "      # half = int(noof_words/2)\r\n",
        "      words = sent.split()\r\n",
        "      for i in range(10,noof_words):\r\n",
        "        rn = random.randint(3,6)\r\n",
        "        if noof_words-i>=rn:\r\n",
        "          input.append(' '.join(subject.split()[:5]+words[:i]))\r\n",
        "          output.append(' '.join(words[i:i+rn]))\r\n",
        " "
      ],
      "execution_count": null,
      "outputs": []
    },
    {
      "cell_type": "code",
      "metadata": {
        "colab": {
          "base_uri": "https://localhost:8080/",
          "height": 204
        },
        "id": "EGJvnqczJLla",
        "outputId": "ae973ad5-267a-4dc8-ba57-23d91d60bad1"
      },
      "source": [
        "data_long = pd.DataFrame(columns=['input','output'])\r\n",
        "data_long['input']=input\r\n",
        "data_long['output']=output\r\n",
        "data_long.head(5)"
      ],
      "execution_count": null,
      "outputs": [
        {
          "output_type": "execute_result",
          "data": {
            "text/html": [
              "<div>\n",
              "<style scoped>\n",
              "    .dataframe tbody tr th:only-of-type {\n",
              "        vertical-align: middle;\n",
              "    }\n",
              "\n",
              "    .dataframe tbody tr th {\n",
              "        vertical-align: top;\n",
              "    }\n",
              "\n",
              "    .dataframe thead th {\n",
              "        text-align: right;\n",
              "    }\n",
              "</style>\n",
              "<table border=\"1\" class=\"dataframe\">\n",
              "  <thead>\n",
              "    <tr style=\"text-align: right;\">\n",
              "      <th></th>\n",
              "      <th>input</th>\n",
              "      <th>output</th>\n",
              "    </tr>\n",
              "  </thead>\n",
              "  <tbody>\n",
              "    <tr>\n",
              "      <th>0</th>\n",
              "      <td>com monique sanchez frank ermis john lavorato ...</td>\n",
              "      <td>your help phillip allen</td>\n",
              "    </tr>\n",
              "    <tr>\n",
              "      <th>1</th>\n",
              "      <td>john denver is short rockies position beyond i...</td>\n",
              "      <td>their trailblazer transport</td>\n",
              "    </tr>\n",
              "    <tr>\n",
              "      <th>2</th>\n",
              "      <td>burnet i would also like to review the closing...</td>\n",
              "      <td>soon as possible</td>\n",
              "    </tr>\n",
              "    <tr>\n",
              "      <th>3</th>\n",
              "      <td>western gas market report draft richard compar...</td>\n",
              "      <td>california gas report</td>\n",
              "    </tr>\n",
              "    <tr>\n",
              "      <th>4</th>\n",
              "      <td>cooper can you give access to the new west power</td>\n",
              "      <td>site to jay</td>\n",
              "    </tr>\n",
              "  </tbody>\n",
              "</table>\n",
              "</div>"
            ],
            "text/plain": [
              "                                               input                       output\n",
              "0  com monique sanchez frank ermis john lavorato ...      your help phillip allen\n",
              "1  john denver is short rockies position beyond i...  their trailblazer transport\n",
              "2  burnet i would also like to review the closing...             soon as possible\n",
              "3  western gas market report draft richard compar...        california gas report\n",
              "4   cooper can you give access to the new west power                  site to jay"
            ]
          },
          "metadata": {
            "tags": []
          },
          "execution_count": 77
        }
      ]
    },
    {
      "cell_type": "markdown",
      "metadata": {
        "id": "knhkYRL8pYmM"
      },
      "source": [
        "##Word breaking"
      ]
    },
    {
      "cell_type": "code",
      "metadata": {
        "colab": {
          "base_uri": "https://localhost:8080/"
        },
        "id": "NR3M6ZXApfRg",
        "outputId": "9c86a065-135f-4053-ed68-ebb3cacb7821"
      },
      "source": [
        "emails = emails_original[emails_original['no_of_sent']<10]\r\n",
        "emails.reset_index(drop=True,inplace=True)\r\n",
        "emails.info()"
      ],
      "execution_count": null,
      "outputs": [
        {
          "output_type": "stream",
          "text": [
            "<class 'pandas.core.frame.DataFrame'>\n",
            "RangeIndex: 216479 entries, 0 to 216478\n",
            "Data columns (total 7 columns):\n",
            " #   Column             Non-Null Count   Dtype \n",
            "---  ------             --------------   ----- \n",
            " 0   file               216479 non-null  object\n",
            " 1   message            216479 non-null  object\n",
            " 2   Body               216479 non-null  object\n",
            " 3   Subject            216479 non-null  object\n",
            " 4   Processed_Text     216479 non-null  object\n",
            " 5   Processed_Subject  216479 non-null  object\n",
            " 6   no_of_sent         216479 non-null  int64 \n",
            "dtypes: int64(1), object(6)\n",
            "memory usage: 11.6+ MB\n"
          ],
          "name": "stdout"
        }
      ]
    },
    {
      "cell_type": "code",
      "metadata": {
        "id": "r4v914Bip-lA"
      },
      "source": [
        "'''Take sentences which have word length in range 5 and 12, split the sentence at each word by splitting the word into halves\r\n",
        " by putting first half in input and other half in output. To inputs add subject of the mail'''\r\n",
        "\r\n",
        "input = []\r\n",
        "output = []\r\n",
        "for i in emails.index:\r\n",
        "  subject = emails.loc[i]['Processed_Subject']\r\n",
        "  sentences = emails.loc[i]['Processed_Text'].split('.')\r\n",
        "  for sent in sentences:\r\n",
        "    sent = sent.lower()\r\n",
        "    noof_words = len(sent.split())\r\n",
        "    if noof_words in range(5,13):\r\n",
        "      # half = int(noof_words/2)\r\n",
        "      words = sent.split()\r\n",
        "      for i in range(3,noof_words):\r\n",
        "        if len(words[i])>=5 and noof_words-i>=3:\r\n",
        "          for j in range(3,len(words[i])):\r\n",
        "            if len(words[i])-j>=2:\r\n",
        "              half_word_1 = words[i][:j]\r\n",
        "              half_word_2 = words[i][j:]\r\n",
        "              input.append(' '.join(subject.split()[:5]+words[:i-1]+[half_word_1]))\r\n",
        "              output.append(' '.join([half_word_2]+words[i+1:i+3]))\r\n",
        " "
      ],
      "execution_count": null,
      "outputs": []
    },
    {
      "cell_type": "code",
      "metadata": {
        "colab": {
          "base_uri": "https://localhost:8080/",
          "height": 204
        },
        "id": "sP1SWAa7qIHz",
        "outputId": "b5736094-65c2-4d8c-d42b-52bede3c7e14"
      },
      "source": [
        "data_wordbrk = pd.DataFrame(columns=['input','output'])\r\n",
        "data_wordbrk['input']=input\r\n",
        "data_wordbrk['output']=output\r\n",
        "data_wordbrk.head()"
      ],
      "execution_count": null,
      "outputs": [
        {
          "output_type": "execute_result",
          "data": {
            "text/html": [
              "<div>\n",
              "<style scoped>\n",
              "    .dataframe tbody tr th:only-of-type {\n",
              "        vertical-align: middle;\n",
              "    }\n",
              "\n",
              "    .dataframe tbody tr th {\n",
              "        vertical-align: top;\n",
              "    }\n",
              "\n",
              "    .dataframe thead th {\n",
              "        text-align: right;\n",
              "    }\n",
              "</style>\n",
              "<table border=\"1\" class=\"dataframe\">\n",
              "  <thead>\n",
              "    <tr style=\"text-align: right;\">\n",
              "      <th></th>\n",
              "      <th>input</th>\n",
              "      <th>output</th>\n",
              "    </tr>\n",
              "  </thead>\n",
              "  <tbody>\n",
              "    <tr>\n",
              "      <th>0</th>\n",
              "      <td>plus your thoughts on cha</td>\n",
              "      <td>nges that need</td>\n",
              "    </tr>\n",
              "    <tr>\n",
              "      <th>1</th>\n",
              "      <td>plus your thoughts on chan</td>\n",
              "      <td>ges that need</td>\n",
              "    </tr>\n",
              "    <tr>\n",
              "      <th>2</th>\n",
              "      <td>plus your thoughts on chang</td>\n",
              "      <td>es that need</td>\n",
              "    </tr>\n",
              "    <tr>\n",
              "      <th>3</th>\n",
              "      <td>hello greg how eit</td>\n",
              "      <td>her next tuesday</td>\n",
              "    </tr>\n",
              "    <tr>\n",
              "      <th>4</th>\n",
              "      <td>hello greg how eith</td>\n",
              "      <td>er next tuesday</td>\n",
              "    </tr>\n",
              "  </tbody>\n",
              "</table>\n",
              "</div>"
            ],
            "text/plain": [
              "                         input            output\n",
              "0    plus your thoughts on cha    nges that need\n",
              "1   plus your thoughts on chan     ges that need\n",
              "2  plus your thoughts on chang      es that need\n",
              "3           hello greg how eit  her next tuesday\n",
              "4          hello greg how eith   er next tuesday"
            ]
          },
          "metadata": {
            "tags": []
          },
          "execution_count": 80
        }
      ]
    },
    {
      "cell_type": "markdown",
      "metadata": {
        "id": "Ayf2_9Ripf6I"
      },
      "source": [
        "##Append all data"
      ]
    },
    {
      "cell_type": "code",
      "metadata": {
        "colab": {
          "base_uri": "https://localhost:8080/"
        },
        "id": "Ry1M7mTuqg9g",
        "outputId": "948ae5ce-c82f-4385-bad7-a4e223febfae"
      },
      "source": [
        "final_data = pd.concat([data_short, data_long, data_wordbrk])\r\n",
        "final_data.info()"
      ],
      "execution_count": null,
      "outputs": [
        {
          "output_type": "stream",
          "text": [
            "<class 'pandas.core.frame.DataFrame'>\n",
            "Int64Index: 2218723 entries, 0 to 1230803\n",
            "Data columns (total 2 columns):\n",
            " #   Column  Dtype \n",
            "---  ------  ----- \n",
            " 0   input   object\n",
            " 1   output  object\n",
            "dtypes: object(2)\n",
            "memory usage: 50.8+ MB\n"
          ],
          "name": "stdout"
        }
      ]
    },
    {
      "cell_type": "markdown",
      "metadata": {
        "id": "De2m8U2HMk5Y"
      },
      "source": [
        "Since there is a possibility of duplicate items, we checked for the same and found there are many. So we remove the duplicate items from our data. "
      ]
    },
    {
      "cell_type": "code",
      "metadata": {
        "colab": {
          "base_uri": "https://localhost:8080/"
        },
        "id": "rWap8VuaKlc1",
        "outputId": "d3dbd0cb-5cbc-423c-d355-9f057e1046e3"
      },
      "source": [
        "final_data = final_data.drop_duplicates(ignore_index=True)\r\n",
        "final_data.info()"
      ],
      "execution_count": null,
      "outputs": [
        {
          "output_type": "stream",
          "text": [
            "<class 'pandas.core.frame.DataFrame'>\n",
            "RangeIndex: 781268 entries, 0 to 781267\n",
            "Data columns (total 2 columns):\n",
            " #   Column  Non-Null Count   Dtype \n",
            "---  ------  --------------   ----- \n",
            " 0   input   781268 non-null  object\n",
            " 1   output  781268 non-null  object\n",
            "dtypes: object(2)\n",
            "memory usage: 11.9+ MB\n"
          ],
          "name": "stdout"
        }
      ]
    },
    {
      "cell_type": "code",
      "metadata": {
        "colab": {
          "background_save": true
        },
        "id": "NIfxgth2ES-O"
      },
      "source": [
        "# new_data.to_excel('cs2_long_sent.xlsx',index=False)"
      ],
      "execution_count": null,
      "outputs": []
    },
    {
      "cell_type": "markdown",
      "metadata": {
        "id": "9FBle2xGPICD"
      },
      "source": [
        "After preparing the data in required formats and appending the data and removing the duplicates, we got around 6lakh data points on which we will be training next word(s) prediction model."
      ]
    },
    {
      "cell_type": "markdown",
      "metadata": {
        "id": "CWKwzTSgd_rD"
      },
      "source": [
        "#Final Model"
      ]
    },
    {
      "cell_type": "code",
      "metadata": {
        "colab": {
          "base_uri": "https://localhost:8080/",
          "height": 204
        },
        "id": "FG6QOn3CeDd3",
        "outputId": "cc5568e0-6256-4253-f362-c59f8d0d5ea3"
      },
      "source": [
        "new_data = final_data\r\n",
        "new_data.head()"
      ],
      "execution_count": null,
      "outputs": [
        {
          "output_type": "execute_result",
          "data": {
            "text/html": [
              "<div>\n",
              "<style scoped>\n",
              "    .dataframe tbody tr th:only-of-type {\n",
              "        vertical-align: middle;\n",
              "    }\n",
              "\n",
              "    .dataframe tbody tr th {\n",
              "        vertical-align: top;\n",
              "    }\n",
              "\n",
              "    .dataframe thead th {\n",
              "        text-align: right;\n",
              "    }\n",
              "</style>\n",
              "<table border=\"1\" class=\"dataframe\">\n",
              "  <thead>\n",
              "    <tr style=\"text-align: right;\">\n",
              "      <th></th>\n",
              "      <th>input</th>\n",
              "      <th>output</th>\n",
              "    </tr>\n",
              "  </thead>\n",
              "  <tbody>\n",
              "    <tr>\n",
              "      <th>0</th>\n",
              "      <td>plus your thoughts</td>\n",
              "      <td>on any changes that</td>\n",
              "    </tr>\n",
              "    <tr>\n",
              "      <th>1</th>\n",
              "      <td>plus your thoughts on</td>\n",
              "      <td>any changes that</td>\n",
              "    </tr>\n",
              "    <tr>\n",
              "      <th>2</th>\n",
              "      <td>plus your thoughts on any</td>\n",
              "      <td>changes that</td>\n",
              "    </tr>\n",
              "    <tr>\n",
              "      <th>3</th>\n",
              "      <td>plus your thoughts on any changes</td>\n",
              "      <td>that need to be</td>\n",
              "    </tr>\n",
              "    <tr>\n",
              "      <th>4</th>\n",
              "      <td>plus your thoughts on any changes that</td>\n",
              "      <td>need to be</td>\n",
              "    </tr>\n",
              "  </tbody>\n",
              "</table>\n",
              "</div>"
            ],
            "text/plain": [
              "                                    input               output\n",
              "0                      plus your thoughts  on any changes that\n",
              "1                   plus your thoughts on     any changes that\n",
              "2               plus your thoughts on any         changes that\n",
              "3       plus your thoughts on any changes      that need to be\n",
              "4  plus your thoughts on any changes that           need to be"
            ]
          },
          "metadata": {
            "tags": []
          },
          "execution_count": 133
        }
      ]
    },
    {
      "cell_type": "code",
      "metadata": {
        "id": "f0rU1ra6OiDG"
      },
      "source": [
        "# import pickle\r\n",
        "# outfile = open('final_data_cs2_subject.pkl','wb')\r\n",
        "# pickle.dump(new_data,outfile)\r\n",
        "# outfile.close()"
      ],
      "execution_count": null,
      "outputs": []
    },
    {
      "cell_type": "code",
      "metadata": {
        "id": "OtBET9vUOzhv"
      },
      "source": [
        "import pickle\r\n",
        "infile = open('final_data_cs2_subject.pkl','rb')\r\n",
        "new_data = pickle.load(infile)\r\n",
        "infile.close()"
      ],
      "execution_count": null,
      "outputs": []
    },
    {
      "cell_type": "code",
      "metadata": {
        "colab": {
          "base_uri": "https://localhost:8080/",
          "height": 204
        },
        "id": "MV3ePbt1e_jh",
        "outputId": "f4f9240b-13e4-4fdf-a449-a11c879b4c4f"
      },
      "source": [
        "'''Prepare the data in a format according to Encoder Decoder model'''\r\n",
        "\r\n",
        "new_data['decoder_input'] = '<start> ' + new_data['output'].astype(str)\r\n",
        "new_data['decoder_output'] = new_data['output'].astype(str) + ' <end>'\r\n",
        "new_data = new_data.drop(['output'], axis=1)\r\n",
        "new_data.head()"
      ],
      "execution_count": null,
      "outputs": [
        {
          "output_type": "execute_result",
          "data": {
            "text/html": [
              "<div>\n",
              "<style scoped>\n",
              "    .dataframe tbody tr th:only-of-type {\n",
              "        vertical-align: middle;\n",
              "    }\n",
              "\n",
              "    .dataframe tbody tr th {\n",
              "        vertical-align: top;\n",
              "    }\n",
              "\n",
              "    .dataframe thead th {\n",
              "        text-align: right;\n",
              "    }\n",
              "</style>\n",
              "<table border=\"1\" class=\"dataframe\">\n",
              "  <thead>\n",
              "    <tr style=\"text-align: right;\">\n",
              "      <th></th>\n",
              "      <th>input</th>\n",
              "      <th>decoder_input</th>\n",
              "      <th>decoder_output</th>\n",
              "    </tr>\n",
              "  </thead>\n",
              "  <tbody>\n",
              "    <tr>\n",
              "      <th>0</th>\n",
              "      <td>plus your thoughts</td>\n",
              "      <td>&lt;start&gt; on any changes that</td>\n",
              "      <td>on any changes that &lt;end&gt;</td>\n",
              "    </tr>\n",
              "    <tr>\n",
              "      <th>1</th>\n",
              "      <td>plus your thoughts on</td>\n",
              "      <td>&lt;start&gt; any changes that</td>\n",
              "      <td>any changes that &lt;end&gt;</td>\n",
              "    </tr>\n",
              "    <tr>\n",
              "      <th>2</th>\n",
              "      <td>plus your thoughts on any</td>\n",
              "      <td>&lt;start&gt; changes that</td>\n",
              "      <td>changes that &lt;end&gt;</td>\n",
              "    </tr>\n",
              "    <tr>\n",
              "      <th>3</th>\n",
              "      <td>plus your thoughts on any changes</td>\n",
              "      <td>&lt;start&gt; that need to be</td>\n",
              "      <td>that need to be &lt;end&gt;</td>\n",
              "    </tr>\n",
              "    <tr>\n",
              "      <th>4</th>\n",
              "      <td>plus your thoughts on any changes that</td>\n",
              "      <td>&lt;start&gt; need to be</td>\n",
              "      <td>need to be &lt;end&gt;</td>\n",
              "    </tr>\n",
              "  </tbody>\n",
              "</table>\n",
              "</div>"
            ],
            "text/plain": [
              "                                    input  ...             decoder_output\n",
              "0                      plus your thoughts  ...  on any changes that <end>\n",
              "1                   plus your thoughts on  ...     any changes that <end>\n",
              "2               plus your thoughts on any  ...         changes that <end>\n",
              "3       plus your thoughts on any changes  ...      that need to be <end>\n",
              "4  plus your thoughts on any changes that  ...           need to be <end>\n",
              "\n",
              "[5 rows x 3 columns]"
            ]
          },
          "metadata": {
            "tags": []
          },
          "execution_count": 5
        }
      ]
    },
    {
      "cell_type": "code",
      "metadata": {
        "id": "vbM7GKSw2hgd"
      },
      "source": [
        "max_len_enc = max([len(x.split()) for x in new_data.input])\r\n",
        "max_len_dec = max([len(x.split()) for x in new_data.decoder_input])"
      ],
      "execution_count": null,
      "outputs": []
    },
    {
      "cell_type": "code",
      "metadata": {
        "colab": {
          "base_uri": "https://localhost:8080/"
        },
        "id": "j16CR9eM4iS0",
        "outputId": "70195d01-b3b1-4978-c15b-b70aa50ed62a"
      },
      "source": [
        "max_len_enc, max_len_dec"
      ],
      "execution_count": null,
      "outputs": [
        {
          "output_type": "execute_result",
          "data": {
            "text/plain": [
              "(16, 5)"
            ]
          },
          "metadata": {
            "tags": []
          },
          "execution_count": 7
        }
      ]
    },
    {
      "cell_type": "markdown",
      "metadata": {
        "id": "jnAwY2xUgpdl"
      },
      "source": [
        "We don't split the data into train and test because all the data we have should be put to use to generate better predictions"
      ]
    },
    {
      "cell_type": "code",
      "metadata": {
        "colab": {
          "base_uri": "https://localhost:8080/"
        },
        "id": "3c3Z9fLpggh3",
        "outputId": "2186f120-4c0d-4f97-fb03-de42318f4b6d"
      },
      "source": [
        "'''Tokenize the encoder's vocab and decoder vocab.\r\n",
        "In decoder's tokenizer, we have to filter some characters to include <start>, <end> as unique tokens'''\r\n",
        "\r\n",
        "from tensorflow.keras.preprocessing.text import Tokenizer\r\n",
        "from tensorflow.keras.preprocessing.sequence import pad_sequences\r\n",
        "\r\n",
        "tokenizer_encoder = Tokenizer(oov_token='out_of_vocab')\r\n",
        "tokenizer_encoder.fit_on_texts(new_data['input'].values)\r\n",
        "\r\n",
        "tokenizer_decoder = Tokenizer(filters='!\"#$%&()*+,-./:;=?@[\\\\]^_`{|}~\\t\\n')\r\n",
        "tokenizer_decoder.fit_on_texts(np.append(new_data['decoder_input'].values,'<end>')) #to add <end> in the corpus\r\n",
        "\r\n",
        "vocab_size_enc = len(tokenizer_encoder.word_index)+1\r\n",
        "vocab_size_dec = len(tokenizer_decoder.word_index)+1\r\n",
        "\r\n",
        "print(\"Vocab sizes of encoder and decoder are \",vocab_size_enc,vocab_size_dec)\r\n"
      ],
      "execution_count": null,
      "outputs": [
        {
          "output_type": "stream",
          "text": [
            "Vocab sizes of encoder and decoder are  44893 34335\n"
          ],
          "name": "stdout"
        }
      ]
    },
    {
      "cell_type": "code",
      "metadata": {
        "colab": {
          "base_uri": "https://localhost:8080/"
        },
        "id": "5DOt6aczxk_W",
        "outputId": "2a077529-48bb-4d0e-bb35-8a149d02e297"
      },
      "source": [
        "tokenizer_decoder.word_index['<end>']"
      ],
      "execution_count": null,
      "outputs": [
        {
          "output_type": "execute_result",
          "data": {
            "text/plain": [
              "34334"
            ]
          },
          "metadata": {
            "tags": []
          },
          "execution_count": 9
        }
      ]
    },
    {
      "cell_type": "code",
      "metadata": {
        "id": "D4nxuNg06KST"
      },
      "source": [
        "import pickle\r\n",
        "outfile = open('tokenizers_subject.pkl','wb')\r\n",
        "pickle.dump((tokenizer_encoder,tokenizer_decoder),outfile)\r\n",
        "outfile.close()"
      ],
      "execution_count": null,
      "outputs": []
    },
    {
      "cell_type": "code",
      "metadata": {
        "colab": {
          "base_uri": "https://localhost:8080/"
        },
        "id": "6vm8Zq_s64vF",
        "outputId": "84b73507-518a-4d34-8e1e-8c5c5f5ba19c"
      },
      "source": [
        "'''change the sentences to tokens and then pad them to maximum length such that all inputs and outputs'''\r\n",
        "\r\n",
        "tokenzd_seq_enc = tokenizer_encoder.texts_to_sequences(new_data['input'].values)\r\n",
        "tokenzd_seq_dec_ip = tokenizer_decoder.texts_to_sequences(new_data['decoder_input'].values)\r\n",
        "tokenzd_seq_dec_op = tokenizer_decoder.texts_to_sequences(new_data['decoder_output'].values)\r\n",
        "\r\n",
        "enc_padded = pad_sequences(tokenzd_seq_enc, maxlen=max_len_enc, dtype='int32', padding='post')\r\n",
        "dec_ip_padded = pad_sequences(tokenzd_seq_dec_ip, maxlen=max_len_dec, dtype='int32', padding='post')\r\n",
        "dec_op_padded = pad_sequences(tokenzd_seq_dec_op, maxlen=max_len_dec, dtype='int32', padding='post')\r\n",
        "\r\n",
        "print(enc_padded.shape,dec_ip_padded.shape,dec_op_padded.shape)"
      ],
      "execution_count": null,
      "outputs": [
        {
          "output_type": "stream",
          "text": [
            "(781268, 16) (781268, 5) (781268, 5)\n"
          ],
          "name": "stdout"
        }
      ]
    },
    {
      "cell_type": "code",
      "metadata": {
        "id": "gD5cU3Ab7PaK"
      },
      "source": [
        "'''convert our data into tf.data format for easy and fast loading of batches'''\r\n",
        "\r\n",
        "BATCH_SIZE=1024\r\n",
        "train_dataset = tf.data.Dataset.from_tensor_slices(((enc_padded, dec_ip_padded),dec_op_padded))\r\n",
        "train_dataset = train_dataset.batch(BATCH_SIZE, drop_remainder=True)"
      ],
      "execution_count": null,
      "outputs": []
    },
    {
      "cell_type": "code",
      "metadata": {
        "id": "wtMxWlVJnaML"
      },
      "source": [
        "'''Load pre trained word embeddings to encoder and decoder's embedding layers'''\r\n",
        "\r\n",
        "embeddings_index = dict()\r\n",
        "f = open('Translation/glove.6B.300d.txt')\r\n",
        "for line in f:\r\n",
        " values = line.split()\r\n",
        " word = values[0]\r\n",
        " coefs = np.asarray(values[1:], dtype='float32')\r\n",
        " embeddings_index[word] = coefs\r\n",
        "f.close()\r\n",
        "embedding_matrix_enc = np.random.normal(size=(vocab_size_enc, 300))\r\n",
        "for word, i in tokenizer_encoder.word_index.items():\r\n",
        " embedding_vector = embeddings_index.get(word)\r\n",
        " if embedding_vector is not None:\r\n",
        "  embedding_matrix_enc[i] = embedding_vector\r\n"
      ],
      "execution_count": null,
      "outputs": []
    },
    {
      "cell_type": "code",
      "metadata": {
        "id": "-4YonCsmnboO"
      },
      "source": [
        "embeddings_index = dict()\r\n",
        "f = open('Translation/glove.6B.300d.txt')\r\n",
        "for line in f:\r\n",
        " values = line.split()\r\n",
        " word = values[0]\r\n",
        " coefs = np.asarray(values[1:], dtype='float32')\r\n",
        " embeddings_index[word] = coefs\r\n",
        "f.close()\r\n",
        "embedding_matrix_dec = np.random.normal(size=(vocab_size_dec, 300))\r\n",
        "for word, i in tokenizer_decoder.word_index.items():\r\n",
        " embedding_vector = embeddings_index.get(word)\r\n",
        " if embedding_vector is not None:\r\n",
        "  embedding_matrix_dec[i] = embedding_vector"
      ],
      "execution_count": null,
      "outputs": []
    },
    {
      "cell_type": "code",
      "metadata": {
        "id": "z6bnGbKYjdFz"
      },
      "source": [
        "class Encoder(tf.keras.layers.Layer):\r\n",
        "\r\n",
        "    def __init__(self,inp_vocab_size,embedding_size,lstm_size,input_length):\r\n",
        "        \r\n",
        "        '''Initialize the embedding and LSTM layers that will be used in our encoder layer'''\r\n",
        "        \r\n",
        "        super().__init__()\r\n",
        "        self.lstm_size = lstm_size\r\n",
        "        self.embedding = Embedding(input_dim=inp_vocab_size, output_dim=embedding_size, input_length=input_length,\r\n",
        "                    mask_zero=True, name=\"embedding_layer_encoder\", weights=[embedding_matrix_enc], trainable=True)\r\n",
        "        # self.embedding = Embedding(input_dim=inp_vocab_size, output_dim=embedding_size, input_length=input_length,\r\n",
        "        #                            mask_zero=True, name=\"embedding_layer_encoder\")\r\n",
        "        self.lstm = LSTM(lstm_size, return_state=True, return_sequences=True, name=\"Encoder_LSTM\")\r\n",
        "        self.lstm_output = 0\r\n",
        "        self.lstm_state_h=0\r\n",
        "        self.lstm_state_c=0\r\n",
        "\r\n",
        "\r\n",
        "    def call(self,input_sequence): \r\n",
        "        \r\n",
        "        '''\r\n",
        "        Takes encoder's input sequence and return encoder's lstm's output\r\n",
        "        '''\r\n",
        "        \r\n",
        "        input_embedd = self.embedding(input_sequence)\r\n",
        "        self.lstm_output, self.lstm_state_h,self.lstm_state_c = self.lstm(input_embedd)\r\n",
        "        return self.lstm_output, self.lstm_state_h,self.lstm_state_c\r\n",
        "\r\n",
        "    "
      ],
      "execution_count": null,
      "outputs": []
    },
    {
      "cell_type": "code",
      "metadata": {
        "id": "8gmsBNW6lrm9"
      },
      "source": [
        "class Decoder(tf.keras.layers.Layer):\r\n",
        "\r\n",
        "    def __init__(self,out_vocab_size,embedding_size,lstm_size,input_length):\r\n",
        "        \r\n",
        "        '''Initialize the embedding and LSTM layers that will be used in our decoder layer'''\r\n",
        "        \r\n",
        "        super().__init__()\r\n",
        "        # self.embedding = Embedding(input_dim=out_vocab_size, output_dim=embedding_size, input_length=input_length,\r\n",
        "        #                    mask_zero=True, name=\"embedding_layer_decoder\")\r\n",
        "        self.embedding = Embedding(input_dim=out_vocab_size, output_dim=embedding_size, input_length=input_length,\r\n",
        "                           mask_zero=True, name=\"embedding_layer_decoder\", weights=[embedding_matrix_dec], trainable=True)\r\n",
        "        self.lstm = LSTM(lstm_size, return_sequences=True, return_state=True, name=\"Decoder_LSTM\")\r\n",
        "        self.lstm_output = 0\r\n",
        "        self.lstm_state_h=0\r\n",
        "        self.lstm_state_c=0\r\n",
        "        \r\n",
        "\r\n",
        "\r\n",
        "    def call(self,input_sequence,initial_states):\r\n",
        "        \r\n",
        "        '''\r\n",
        "        Takes decoder's input for teacher forcing, encoder's final states as initial states for decoder's lstm and return decoder lstm's output\r\n",
        "        '''\r\n",
        "\r\n",
        "        input_embedd = self.embedding(input_sequence)\r\n",
        "        self.lstm_output, self.lstm_state_h,self.lstm_state_c = self.lstm(input_embedd, initial_state=initial_states)\r\n",
        "        return self.lstm_output, self.lstm_state_h,self.lstm_state_c\r\n",
        "\r\n"
      ],
      "execution_count": null,
      "outputs": []
    },
    {
      "cell_type": "code",
      "metadata": {
        "colab": {
          "base_uri": "https://localhost:8080/"
        },
        "id": "-C58T5vYB5kv",
        "outputId": "4843bee8-394e-4f4f-a59b-15111ae04940"
      },
      "source": [
        "'''Create a functional model with the custom layers built above and train it with our data'''\r\n",
        "\r\n",
        "embed_dim = 300\r\n",
        "enc_input_length = max_len_enc\r\n",
        "dec_input_length = max_len_dec\r\n",
        "lstm_units = 512\r\n",
        "\r\n",
        "X_input1 = Input(shape=(max_len_enc,))\r\n",
        "X_input2 = Input(shape=(max_len_dec,))\r\n",
        "X_input3 = Input(shape=(max_len_dec,))\r\n",
        "\r\n",
        "encoder_output, encoder_h, encoder_c = Encoder(inp_vocab_size=vocab_size_enc, embedding_size=embed_dim,input_length=enc_input_length, lstm_size = lstm_units)(X_input1)\r\n",
        "decoder_output,_,_ = Decoder(out_vocab_size=vocab_size_dec, embedding_size=embed_dim,input_length=dec_input_length, lstm_size = lstm_units)(X_input2,initial_states=(encoder_h, encoder_c))\r\n",
        "output = Dense(vocab_size_dec, activation='softmax')(decoder_output)\r\n",
        "\r\n",
        "model = Model(inputs = [[X_input1,X_input2],X_input3], outputs = output)\r\n",
        "optimizer = tf.keras.optimizers.Adam()\r\n",
        "model.compile(optimizer=optimizer,loss='sparse_categorical_crossentropy')\r\n",
        "train_steps=new_data.shape[0]//BATCH_SIZE\r\n",
        "history = model.fit(train_dataset, steps_per_epoch=train_steps, epochs=30)\r\n"
      ],
      "execution_count": null,
      "outputs": [
        {
          "output_type": "stream",
          "text": [
            "Epoch 1/30\n",
            "762/762 [==============================] - 366s 466ms/step - loss: 4.5500\n",
            "Epoch 2/30\n",
            "762/762 [==============================] - 367s 482ms/step - loss: 3.4868\n",
            "Epoch 3/30\n",
            "762/762 [==============================] - 366s 481ms/step - loss: 2.9852\n",
            "Epoch 4/30\n",
            "762/762 [==============================] - 365s 479ms/step - loss: 2.6535\n",
            "Epoch 5/30\n",
            "762/762 [==============================] - 365s 479ms/step - loss: 2.3940\n",
            "Epoch 6/30\n",
            "762/762 [==============================] - 364s 478ms/step - loss: 2.1723\n",
            "Epoch 7/30\n",
            "762/762 [==============================] - 365s 479ms/step - loss: 1.9810\n",
            "Epoch 8/30\n",
            "762/762 [==============================] - 364s 478ms/step - loss: 1.8162\n",
            "Epoch 9/30\n",
            "762/762 [==============================] - 365s 479ms/step - loss: 1.6700\n",
            "Epoch 10/30\n",
            "762/762 [==============================] - 364s 478ms/step - loss: 1.5399\n",
            "Epoch 11/30\n",
            "762/762 [==============================] - 364s 478ms/step - loss: 1.4221\n",
            "Epoch 12/30\n",
            "762/762 [==============================] - 364s 478ms/step - loss: 1.3154\n",
            "Epoch 13/30\n",
            "762/762 [==============================] - 364s 478ms/step - loss: 1.2177\n",
            "Epoch 14/30\n",
            "762/762 [==============================] - 365s 478ms/step - loss: 1.1291\n",
            "Epoch 15/30\n",
            "762/762 [==============================] - 364s 478ms/step - loss: 1.0503\n",
            "Epoch 16/30\n",
            "762/762 [==============================] - 364s 477ms/step - loss: 0.9770\n",
            "Epoch 17/30\n",
            "762/762 [==============================] - 364s 478ms/step - loss: 0.9099\n",
            "Epoch 18/30\n",
            "762/762 [==============================] - 364s 478ms/step - loss: 0.8507\n",
            "Epoch 19/30\n",
            "762/762 [==============================] - 364s 478ms/step - loss: 0.7949\n",
            "Epoch 20/30\n",
            "762/762 [==============================] - 364s 478ms/step - loss: 0.7445\n",
            "Epoch 21/30\n",
            "762/762 [==============================] - 364s 478ms/step - loss: 0.6923\n",
            "Epoch 22/30\n",
            "762/762 [==============================] - 364s 478ms/step - loss: 0.6448\n",
            "Epoch 23/30\n",
            "762/762 [==============================] - 364s 478ms/step - loss: 0.6029\n",
            "Epoch 24/30\n",
            "762/762 [==============================] - 364s 478ms/step - loss: 0.5660\n",
            "Epoch 25/30\n",
            "762/762 [==============================] - 364s 477ms/step - loss: 0.5317\n",
            "Epoch 26/30\n",
            "762/762 [==============================] - 363s 477ms/step - loss: 0.5002\n",
            "Epoch 27/30\n",
            "762/762 [==============================] - 363s 477ms/step - loss: 0.4678\n",
            "Epoch 28/30\n",
            "762/762 [==============================] - 363s 476ms/step - loss: 0.4402\n",
            "Epoch 29/30\n",
            "762/762 [==============================] - 363s 476ms/step - loss: 0.4130\n",
            "Epoch 30/30\n",
            "762/762 [==============================] - 363s 476ms/step - loss: 0.3916\n"
          ],
          "name": "stdout"
        }
      ]
    },
    {
      "cell_type": "code",
      "metadata": {
        "id": "a_qOsPuyVjod",
        "colab": {
          "base_uri": "https://localhost:8080/"
        },
        "outputId": "ecc06f16-d6d6-42ed-b140-1cdede002169"
      },
      "source": [
        "history = model.fit(train_dataset, steps_per_epoch=train_steps, epochs=5)"
      ],
      "execution_count": null,
      "outputs": [
        {
          "output_type": "stream",
          "text": [
            "Epoch 1/5\n",
            "762/762 [==============================] - 359s 471ms/step - loss: 0.2551\n",
            "Epoch 2/5\n",
            "762/762 [==============================] - 366s 480ms/step - loss: 0.2408\n",
            "Epoch 3/5\n",
            "762/762 [==============================] - 366s 481ms/step - loss: 0.2275\n",
            "Epoch 4/5\n",
            "762/762 [==============================] - 367s 482ms/step - loss: 0.2146\n",
            "Epoch 5/5\n",
            "762/762 [==============================] - 366s 481ms/step - loss: 0.2072\n"
          ],
          "name": "stdout"
        }
      ]
    },
    {
      "cell_type": "code",
      "metadata": {
        "colab": {
          "base_uri": "https://localhost:8080/",
          "height": 350
        },
        "id": "DKmOcNQpKLXY",
        "outputId": "81e3718d-f5dd-41e9-d9ab-467e88910704"
      },
      "source": [
        "# Plot training & validation iou_score values\r\n",
        "import matplotlib.pyplot as plt\r\n",
        "plt.figure(figsize=(10, 5))\r\n",
        "plt.plot(history.history['loss'])\r\n",
        "plt.title('Model loss')\r\n",
        "plt.ylabel('Loss')\r\n",
        "plt.xlabel('Epoch')\r\n",
        "plt.legend(['Train'], loc='upper left')\r\n",
        "plt.show()"
      ],
      "execution_count": null,
      "outputs": [
        {
          "output_type": "display_data",
          "data": {
            "image/png": "[encoded data removed]",
            "text/plain": [
              "<Figure size 720x360 with 1 Axes>"
            ]
          },
          "metadata": {
            "tags": [],
            "needs_background": "light"
          }
        }
      ]
    },
    {
      "cell_type": "code",
      "metadata": {
        "colab": {
          "base_uri": "https://localhost:8080/"
        },
        "id": "4zzPYBUMcBZI",
        "outputId": "37c37b3a-9e7e-49a3-a94a-1b32eaf513a9"
      },
      "source": [
        "model.save('final_enc_dec_wthsubj_upd')"
      ],
      "execution_count": null,
      "outputs": [
        {
          "output_type": "stream",
          "text": [
            "WARNING:absl:Found untraced functions such as embedding_layer_encoder_layer_call_fn, embedding_layer_encoder_layer_call_and_return_conditional_losses, embedding_layer_decoder_layer_call_fn, embedding_layer_decoder_layer_call_and_return_conditional_losses, embedding_layer_encoder_layer_call_fn while saving (showing 5 of 20). These functions will not be directly callable after loading.\n",
            "WARNING:absl:Found untraced functions such as embedding_layer_encoder_layer_call_fn, embedding_layer_encoder_layer_call_and_return_conditional_losses, embedding_layer_decoder_layer_call_fn, embedding_layer_decoder_layer_call_and_return_conditional_losses, embedding_layer_encoder_layer_call_fn while saving (showing 5 of 20). These functions will not be directly callable after loading.\n"
          ],
          "name": "stderr"
        },
        {
          "output_type": "stream",
          "text": [
            "INFO:tensorflow:Assets written to: final_enc_dec_wthsubj_upd/assets\n"
          ],
          "name": "stdout"
        },
        {
          "output_type": "stream",
          "text": [
            "INFO:tensorflow:Assets written to: final_enc_dec_wthsubj_upd/assets\n"
          ],
          "name": "stderr"
        }
      ]
    },
    {
      "cell_type": "code",
      "metadata": {
        "id": "KaZH4ftQcKrj"
      },
      "source": [
        "loaded_model = tf.keras.models.load_model('final_enc_dec_wthsubj_upd')"
      ],
      "execution_count": null,
      "outputs": []
    },
    {
      "cell_type": "code",
      "metadata": {
        "colab": {
          "base_uri": "https://localhost:8080/"
        },
        "id": "TugBBBcJf5j5",
        "outputId": "a1faf266-c5ff-4552-9cb0-9f05409ddbec"
      },
      "source": [
        "loaded_model.summary()"
      ],
      "execution_count": null,
      "outputs": [
        {
          "output_type": "stream",
          "text": [
            "Model: \"model\"\n",
            "__________________________________________________________________________________________________\n",
            "Layer (type)                    Output Shape         Param #     Connected to                     \n",
            "==================================================================================================\n",
            "input_1 (InputLayer)            [(None, 16)]         0                                            \n",
            "__________________________________________________________________________________________________\n",
            "input_2 (InputLayer)            [(None, 5)]          0                                            \n",
            "__________________________________________________________________________________________________\n",
            "encoder (Encoder)               ((None, 16, 512), (N 15132924    input_1[0][0]                    \n",
            "__________________________________________________________________________________________________\n",
            "decoder (Decoder)               ((None, 5, 512), (No 11965524    input_2[0][0]                    \n",
            "                                                                 encoder[0][1]                    \n",
            "                                                                 encoder[0][2]                    \n",
            "__________________________________________________________________________________________________\n",
            "input_3 (InputLayer)            [(None, 5)]          0                                            \n",
            "__________________________________________________________________________________________________\n",
            "dense (Dense)                   (None, 5, 34335)     17613855    decoder[0][0]                    \n",
            "==================================================================================================\n",
            "Total params: 44,712,303\n",
            "Trainable params: 44,712,303\n",
            "Non-trainable params: 0\n",
            "__________________________________________________________________________________________________\n"
          ],
          "name": "stdout"
        }
      ]
    },
    {
      "cell_type": "code",
      "metadata": {
        "id": "sKDolL3AmYkX"
      },
      "source": [
        "def predict(input_sentence,model):\r\n",
        "\r\n",
        "  '''\r\n",
        "  Given an input sentence, we need to predict the next words.\r\n",
        "  Tokenize and pad the input sentence,\r\n",
        "  Pass it to encoder's embedding layer and its output to encoder's LSTM layer.\r\n",
        "  Pass its final states hidden and cell states as inputs to decoder's LSTM\r\n",
        "  Before that, initialize <start> word and pass it to decoders embedding layer and then to LSTM layer,\r\n",
        "  We run a loop till we get <end> word.\r\n",
        "  We give predicted word at decoder's current step as input to its next step.\r\n",
        "  '''\r\n",
        "  \r\n",
        "  encoder_test_tokens = tokenizer_encoder.texts_to_sequences([input_sentence])\r\n",
        "  padded_encoder_input = pad_sequences(encoder_test_tokens, maxlen=16, dtype='float32', padding='post')\r\n",
        "  encoder = model.layers[2]\r\n",
        "  encoder_op, enc_h, enc_c = encoder(padded_encoder_input)\r\n",
        "  decoder = model.layers[3]\r\n",
        "  index_of_start = np.array(tokenizer_decoder.word_index['<start>']).reshape(1,1)\r\n",
        "  states=(enc_h, enc_c)\r\n",
        "  dense = model.layers[5]\r\n",
        "  pred=0\r\n",
        "  sentence = []\r\n",
        "  while pred!=tokenizer_decoder.word_index['<end>']:\r\n",
        "    dec_emb= decoder.embedding(index_of_start)\r\n",
        "    predicted_out,state_h,state_c=decoder.lstm(dec_emb,states)\r\n",
        "    pred = np.argmax(dense(predicted_out))\r\n",
        "    word = [k for k in tokenizer_decoder.word_index if tokenizer_decoder.word_index[k]==pred][0]\r\n",
        "    sentence.append(word)\r\n",
        "    states= (state_h, state_c)\r\n",
        "    index_of_start = np.array(pred).reshape(1,1)\r\n",
        "  return ' '.join(sentence[:-1])"
      ],
      "execution_count": null,
      "outputs": []
    },
    {
      "cell_type": "markdown",
      "metadata": {
        "id": "bNyBXCAyM1mO"
      },
      "source": [
        "Now we will separate out sentences where predictions are bad and analyse them"
      ]
    },
    {
      "cell_type": "code",
      "metadata": {
        "colab": {
          "base_uri": "https://localhost:8080/"
        },
        "id": "m0Bdmc7KMxHb",
        "outputId": "6dadb815-bd4a-4570-a18d-2ffc59b071e8"
      },
      "source": [
        "import numpy as np\r\n",
        "sample = new_data.sample(100000,random_state=42)\r\n",
        "import nltk.translate.bleu_score as bleu\r\n",
        "from tqdm import tqdm\r\n",
        "incorrect_predictions=[]\r\n",
        "for i in tqdm(sample.index):\r\n",
        "  predicted = predict(new_data.loc[i]['input'],loaded_model)\r\n",
        "  predicted_sent = predicted.split()\r\n",
        "  original = [x for x in new_data.loc[i]['decoder_input'].split() if x!='<start>']\r\n",
        "  if bleu.sentence_bleu([original],predicted_sent)<0.2:\r\n",
        "    incorrect_predictions.append((new_data.loc[i]['input'],' '.join(original),predicted))\r\n"
      ],
      "execution_count": null,
      "outputs": [
        {
          "output_type": "stream",
          "text": [
            "100%|██████████| 100000/100000 [1:46:14<00:00, 15.69it/s]\n"
          ],
          "name": "stderr"
        }
      ]
    },
    {
      "cell_type": "code",
      "metadata": {
        "id": "GiswAJGn2lC-"
      },
      "source": [
        "# import pickle\r\n",
        "# outfile = open('incorrect_preds.pkl','wb')\r\n",
        "# pickle.dump(incorrect_predictions,outfile)\r\n",
        "# outfile.close()"
      ],
      "execution_count": null,
      "outputs": []
    },
    {
      "cell_type": "code",
      "metadata": {
        "id": "IWc1BpR0V6Vr"
      },
      "source": [
        "import pickle\r\n",
        "infile = open('incorrect_preds.pkl','rb')\r\n",
        "incorrect_predictions = pickle.load(infile)\r\n",
        "infile.close()"
      ],
      "execution_count": null,
      "outputs": []
    },
    {
      "cell_type": "code",
      "metadata": {
        "colab": {
          "base_uri": "https://localhost:8080/"
        },
        "id": "u47xkswLvgNU",
        "outputId": "1d059dbd-6976-4116-8f27-28571319a82f"
      },
      "source": [
        "for i in range(len(incorrect_predictions[:20])):\r\n",
        "  print(incorrect_predictions[i][0],\"_\",incorrect_predictions[i][1],'_',incorrect_predictions[i][2])"
      ],
      "execution_count": null,
      "outputs": [
        {
          "output_type": "stream",
          "text": [
            "price processes for ng i should examine other contracts behavior beyond prompt _ month as _ ly worse the\n",
            "did i call it or i am looking _ damn good at bux _ forward to\n",
            "stca forward ob position the stca desk will be _ short mw _ under on peak\n",
            "ene friday report please open as read only _ and do _ thing good\n",
            "martin gas sales could someone please call _ tom redd at _ me for lunch\n",
            "txu fuel deal please verify the price for _ txu fuel _ ward rate for\n",
            "pos.mgr please run it again _ and let me _ st to greg\n",
            "pge sale agreement terminated to read the press release click on _ the following link _ to submit your\n",
            "phone number country code _ city code telephone _ mark taylor will\n",
            "nd request updates for september did i or did i _ not already _ send them\n",
            "are you guys coming to regards mike do you yahoo make _ a great connection at _ welcome online with\n",
            "current d o report this report is being _ provided as a _ forwarded by david\n",
            "oa improvements i believe a large improvement _ can be _ ns are for\n",
            "commodity quote web site asp symbols ng options ngu _ type optfut _ kets fmt o\n",
            "australian approvals list of counterparties _ just mirror the approvals _ ations are both\n",
            "centana hey charlie fyi joe parks is _ going to be managing _ ing for gas\n",
            "fw big commitment i do not think that _ they will _ way is\n",
            "accomplishments i have given you little more than _ you have asked _ ks for your\n",
            "it is all good i _ was looking _ enjoyed talking\n",
            "mapp loss matrix save the book _ mark for future _ ed click here\n"
          ],
          "name": "stdout"
        }
      ]
    },
    {
      "cell_type": "code",
      "metadata": {
        "colab": {
          "base_uri": "https://localhost:8080/"
        },
        "id": "Q1nD1YT3vDRE",
        "outputId": "9314ff2b-9406-4015-a32c-d16c73cf465a"
      },
      "source": [
        "# Predict on 1000 random sentences on test data and calculate the average BLEU score of these sentences.\r\n",
        "# https://www.nltk.org/_modules/nltk/translate/bleu_score.html\r\n",
        "import warnings\r\n",
        "warnings.filterwarnings('ignore')\r\n",
        "\r\n",
        "import numpy as np\r\n",
        "sample = new_data.sample(1000)\r\n",
        "import nltk.translate.bleu_score as bleu\r\n",
        "\r\n",
        "blue_scores=[]\r\n",
        "for n,i in enumerate(sample.index):\r\n",
        "  predicted = predict(new_data.loc[i]['input'],loaded_model).split()\r\n",
        "  original = [x for x in new_data.loc[i]['decoder_input'].split() if x!='<start>']\r\n",
        "  blue_scores.append(bleu.sentence_bleu([original],predicted))\r\n",
        "  if n in range(30):\r\n",
        "    print('-- ip:',new_data.loc[i]['input'],'-- prd: ' ,' '.join(predicted))\r\n",
        "    print('-- ip:',new_data.loc[i]['input'],'-- orgnl: ' ,' '.join(original),'\\n')\r\n",
        "\r\n",
        "np.mean(blue_scores)"
      ],
      "execution_count": null,
      "outputs": [
        {
          "output_type": "stream",
          "text": [
            "-- ip: london research please join us in congratulating steve -- prd:  on their new\n",
            "-- ip: london research please join us in congratulating steve -- orgnl:  on his new responsibilities \n",
            "\n",
            "-- ip: options we can send you -- prd:  where it is\n",
            "-- ip: options we can send you -- orgnl:  a list of \n",
            "\n",
            "-- ip: sample master agreement let me know if there anyth -- prd:  ing else that\n",
            "-- ip: sample master agreement let me know if there anyth -- orgnl:  ing else that \n",
            "\n",
            "-- ip: conference call rescheduled the conference previo -- prd:  usly scheduled for\n",
            "-- ip: conference call rescheduled the conference previo -- orgnl:  usly scheduled for \n",
            "\n",
            "-- ip: can you kill this deal or zero out -- prd:  the side\n",
            "-- ip: can you kill this deal or zero out -- orgnl:  the volumes \n",
            "\n",
            "-- ip: sempra confirmation examples mark see con -- prd:  firmation examples for\n",
            "-- ip: sempra confirmation examples mark see con -- orgnl:  firmation examples for \n",
            "\n",
            "-- ip: working today shoot me a reply yo this message -- prd:  ing if you\n",
            "-- ip: working today shoot me a reply yo this message -- orgnl:  if all is \n",
            "\n",
            "-- ip: statoil assignment to j. aron the attorney ste -- prd:  ve bunkin whom\n",
            "-- ip: statoil assignment to j. aron the attorney ste -- orgnl:  ve bunkin whom \n",
            "\n",
            "-- ip: price forecast for commodities wales stacey orig -- prd:  ination transaction support\n",
            "-- ip: price forecast for commodities wales stacey orig -- orgnl:  ination transaction support \n",
            "\n",
            "-- ip: east curves i have saved them -- prd:  to o dropbox\n",
            "-- ip: east curves i have saved them -- orgnl:  out to o \n",
            "\n",
            "-- ip: prices for clark pud we will be working with john griffith on -- prd:  issues in sections\n",
            "-- ip: prices for clark pud we will be working with john griffith on -- orgnl:  the structured \n",
            "\n",
            "-- ip: governor davis attached please find dav -- prd:  is press release\n",
            "-- ip: governor davis attached please find dav -- orgnl:  is press release \n",
            "\n",
            "-- ip: jedi spv i equity swap the transaction is for shares -- prd:  and a\n",
            "-- ip: jedi spv i equity swap the transaction is for shares -- orgnl:  and a \n",
            "\n",
            "-- ip: el paso joel ephross on -- prd:  economic interests\n",
            "-- ip: el paso joel ephross on -- orgnl:  issues reacquiring economic interests \n",
            "\n",
            "-- ip: holiday soiree in the th com r iid -- prd:  li ic fun\n",
            "-- ip: holiday soiree in the th com r iid -- orgnl:  ymidjqqkteiekbvqrkae li ic still \n",
            "\n",
            "-- ip: revised compression agreement attached is a clean red -- prd:  line version with\n",
            "-- ip: revised compression agreement attached is a clean red -- orgnl:  line version of \n",
            "\n",
            "-- ip: lsu cultivation dinner thanks a million dil -- prd:  lingham recruiter corina\n",
            "-- ip: lsu cultivation dinner thanks a million dil -- orgnl:  lingham recruiter corina \n",
            "\n",
            "-- ip: accomplishments i had not thought integra -- prd:  ting my goals\n",
            "-- ip: accomplishments i had not thought integra -- orgnl:  ting my goals \n",
            "\n",
            "-- ip: data for training program let me know -- prd:  if you have any\n",
            "-- ip: data for training program let me know -- orgnl:  if you need anything \n",
            "\n",
            "-- ip: stipend to uc berkeley policy i will participat -- prd:  ing in the\n",
            "-- ip: stipend to uc berkeley policy i will participat -- orgnl:  ing in the \n",
            "\n",
            "-- ip: rp data response to socal this was inadvertently left off from prev -- prd:  ious e mail\n",
            "-- ip: rp data response to socal this was inadvertently left off from prev -- orgnl:  ious e mail \n",
            "\n",
            "-- ip: next draft of letter to i agree with sue is comments and have included her -- prd:  son is comments\n",
            "-- ip: next draft of letter to i agree with sue is comments and have included her -- orgnl:  changes on page \n",
            "\n",
            "-- ip: future article com outsourcing sha -- prd:  ckleton enron north\n",
            "-- ip: future article com outsourcing sha -- orgnl:  red service operations \n",
            "\n",
            "-- ip: pngc comments on the planning see attached file scheduli -- prd:  ng coordinator comments\n",
            "-- ip: pngc comments on the planning see attached file scheduli -- orgnl:  ng coordinator comments \n",
            "\n",
            "-- ip: skew project these calcs are -- prd:  ting for and\n",
            "-- ip: skew project these calcs are -- orgnl:  for puts and for \n",
            "\n",
            "-- ip: manti operating company should you have questio -- prd:  ns please contact\n",
            "-- ip: manti operating company should you have questio -- orgnl:  ns please contact \n",
            "\n",
            "-- ip: rio nogales greg attached for your further handling is the nogal -- prd:  es for paperboard\n",
            "-- ip: rio nogales greg attached for your further handling is the nogal -- orgnl:  es interconnect agreement \n",
            "\n",
            "-- ip: section notes from if you have problems reading this import -- prd:  let me know\n",
            "-- ip: section notes from if you have problems reading this import -- orgnl:  ing it let \n",
            "\n",
            "-- ip: dr.evil just heard some austin powers sound reverbe -- prd:  rate through the\n",
            "-- ip: dr.evil just heard some austin powers sound reverbe -- orgnl:  rate through the \n",
            "\n",
            "-- ip: questions he returns ann -- prd:  ual trading program\n",
            "-- ip: questions he returns ann -- orgnl:  ual leave on \n",
            "\n"
          ],
          "name": "stdout"
        },
        {
          "output_type": "execute_result",
          "data": {
            "text/plain": [
              "0.6959326443655683"
            ]
          },
          "metadata": {
            "tags": []
          },
          "execution_count": 58
        }
      ]
    },
    {
      "cell_type": "markdown",
      "metadata": {
        "id": "18kpyWl8BhM-"
      },
      "source": [
        "##Beam Search Decoder Predict\r\n"
      ]
    },
    {
      "cell_type": "code",
      "metadata": {
        "id": "XYF-wohIee0o"
      },
      "source": [
        "# Beam Search method understood from https://towardsdatascience.com/an-intuitive-explanation-of-beam-search-9b1d744e7a0f\r\n",
        "import copy\r\n",
        "def beam_predict(input_sentence,model):\r\n",
        "\r\n",
        "  '''\r\n",
        "  Follow the same steps as normal predict function till generating encoder's output.\r\n",
        "  After that we use beam search logic.\r\n",
        "  Generate top three predictions by passing <start> as input.\r\n",
        "  Pass those 3 words as input to decoder and generate top three words for each word.\r\n",
        "  Thus we have total 9 combinatios. We filter out top 3 with high probabilities and \r\n",
        "  pass the last word of that combination to the next step of decoder and repeat the process until we encounter <end> in three sentences\r\n",
        "  '''\r\n",
        "  \r\n",
        "  encoder_test_tokens = tokenizer_encoder.texts_to_sequences([input_sentence])\r\n",
        "  padded_encoder_input = pad_sequences(encoder_test_tokens, maxlen=16, dtype='float32', padding='post')\r\n",
        "  encoder = model.layers[2]\r\n",
        "  encoder_op, enc_h, enc_c = encoder(padded_encoder_input)\r\n",
        "  decoder = model.layers[3]\r\n",
        "  index_of_start = np.array(tokenizer_decoder.word_index['<start>']).reshape(1,1)\r\n",
        "  embedd = decoder.embedding(index_of_start)\r\n",
        "  decoder_op, state_h,state_c = decoder.lstm(embedd,(enc_h,enc_c))\r\n",
        "  states = (state_h,state_c)\r\n",
        "  dense = model.layers[5]\r\n",
        "  op=dense(decoder_op)\r\n",
        "  toppred = np.argsort(op[0][0])[-3:][::-1]\r\n",
        "  probs = np.sort(op[0][0])[-3:][::-1]\r\n",
        "  words = []\r\n",
        "  for pred in toppred:\r\n",
        "    word = [k for k in tokenizer_decoder.word_index if tokenizer_decoder.word_index[k]==pred][0]\r\n",
        "    words.append(word)\r\n",
        "  semi_final = [[probs[0],[toppred[0]],[words[0]],states],[probs[1],[toppred[1]],[words[1]],states],[probs[2],[toppred[2]],[words[2]],states]]\r\n",
        "  finished_sentences = 0\r\n",
        "  final = []\r\n",
        "  while (True):\r\n",
        "    temp = []\r\n",
        "    for i in range(len(semi_final)):\r\n",
        "      dec_emb= decoder.embedding(semi_final[i][1][-1].reshape(1,1))\r\n",
        "      predicted_out,state_h,state_c=decoder.lstm(dec_emb,semi_final[i][-1])\r\n",
        "      op = dense(predicted_out)\r\n",
        "      toppred = np.argsort(op[0][0])[-len(semi_final):][::-1]\r\n",
        "      probs = np.sort(op[0][0])[-len(semi_final):][::-1]\r\n",
        "      states= (state_h, state_c)\r\n",
        "      for j in range(len(toppred)):\r\n",
        "        word = [k for k in tokenizer_decoder.word_index if tokenizer_decoder.word_index[k]==toppred[j]][0]\r\n",
        "        #temp[str(i)+','+str(j)] = (semi_final[i][0] * probs[j],toppred[j],semi_final[i][2].append(word),states)\r\n",
        "        words = copy.deepcopy(semi_final[i][2])\r\n",
        "        words.append(word)\r\n",
        "        temp.append([semi_final[i][0] * probs[j],[toppred[j]],words,states])\r\n",
        "    temp = sorted(temp,key = lambda x:x[0],reverse=True)[:len(semi_final)]\r\n",
        "    ids_to_be_removed = []\r\n",
        "    for id,k in enumerate(temp):\r\n",
        "      if k[2][-1] == '<end>':\r\n",
        "        final.append((k[0],' '.join(k[2][:-1])))\r\n",
        "        finished_sentences+=1\r\n",
        "        ids_to_be_removed.append(id)\r\n",
        "    for id in ids_to_be_removed:\r\n",
        "      temp[id] = 0\r\n",
        "    temp = [i for i in temp if i!=0]\r\n",
        "    semi_final=temp\r\n",
        "    if finished_sentences == 3:\r\n",
        "      break\r\n",
        "\r\n",
        "  return final"
      ],
      "execution_count": null,
      "outputs": []
    },
    {
      "cell_type": "code",
      "metadata": {
        "colab": {
          "base_uri": "https://localhost:8080/"
        },
        "id": "ptNwl0qte4uX",
        "outputId": "108e6085-9751-4f7f-e55a-d0bf0cc4a17e"
      },
      "source": [
        "sample = new_data.sample(15)\r\n",
        "blue_scores=[]\r\n",
        "for i in sample.index:\r\n",
        "  predicted = beam_predict(new_data.loc[i]['input'],loaded_model)\r\n",
        "  original = [x for x in new_data.loc[i]['decoder_input'].split() if x!='<start>']\r\n",
        "  print('-- ip:',new_data.loc[i]['input'],'-- prd: ' ,[x[1] for x in predicted])\r\n",
        "  print('-- ip:',new_data.loc[i]['input'],'-- orgnl: ' ,' '.join(original),'\\n')\r\n"
      ],
      "execution_count": null,
      "outputs": [
        {
          "output_type": "stream",
          "text": [
            "-- ip: revised medusa docs the revisions are all to make it clear that this -- prd:  ['change was discussed', 'change are discussed', 'change is correct']\n",
            "-- ip: revised medusa docs the revisions are all to make it clear that this -- orgnl:  is a nonbinding \n",
            "\n",
            "-- ip: please call me when you get in to -- prd:  ['meet today', 'see you', 'call you']\n",
            "-- ip: please call me when you get in to -- orgnl:  discuss hole \n",
            "\n",
            "-- ip: draft re interactions with pge marlene huntsinger afr -- prd:  ['anji michele farrell', 'anji sager carol', 'anji farrell to']\n",
            "-- ip: draft re interactions with pge marlene huntsinger afr -- orgnl:  anji michele farrell \n",
            "\n",
            "-- ip: ena teams percentage allocations the attached document is being forwarded at the -- prd:  ['request of jeff', 'transwestern pipeline company', 'western customer services']\n",
            "-- ip: ena teams percentage allocations the attached document is being forwarded at the -- orgnl:  request of \n",
            "\n",
            "-- ip: here is the schedule for the pla -- prd:  ['nt and the', 'nning an and', 'nt of march']\n",
            "-- ip: here is the schedule for the pla -- orgnl:  nt and the \n",
            "\n",
            "-- ip: confirmation please find confi -- prd:  ['rmations for and', 'rmation for astra', 'rmation for march']\n",
            "-- ip: confirmation please find confi -- orgnl:  rmation for astra \n",
            "\n",
            "-- ip: change order it is throu -- prd:  ['gh the system', 'gh sunday early', 'gh sunday please']\n",
            "-- ip: change order it is throu -- orgnl:  gh the system \n",
            "\n",
            "-- ip: oasis posting reserve service power gov oasis buspra -- prd:  ['ctices forum messageview', 'west power system', 'west oasis dpr']\n",
            "-- ip: oasis posting reserve service power gov oasis buspra -- orgnl:  ctices forum messageview \n",
            "\n",
            "-- ip: a question regarding your paper in my original calculations i -- prd:  ['did very', 'did not', 'did make']\n",
            "-- ip: a question regarding your paper in my original calculations i -- orgnl:  used n \n",
            "\n",
            "-- ip: southern union gas company and i prep -- prd:  ['are the sign the', 'are the following the', 'are the sign by']\n",
            "-- ip: southern union gas company and i prep -- orgnl:  are the agreement \n",
            "\n",
            "-- ip: txu energy trading company please let me know if -- prd:  ['you have any', 'ted have any', 'ted have questions']\n",
            "-- ip: txu energy trading company please let me know if -- orgnl:  you have \n",
            "\n",
            "-- ip: start date hourahead hour codesite log messages parsing file o westd -- prd:  ['esk california scheduling', 'esk scheduling schedules', 'esk scheduling iso']\n",
            "-- ip: start date hourahead hour codesite log messages parsing file o westd -- orgnl:  esk california scheduling \n",
            "\n",
            "-- ip: qf shutdown message board please post inform -- prd:  ['ation you feel', 'ation contact you', 'ation contact your']\n",
            "-- ip: qf shutdown message board please post inform -- orgnl:  ation you feel \n",
            "\n",
            "-- ip: midamerican meter that need to be pulled and read -- prd:  ['ings added to', 'ings added for', 'rs for june']\n",
            "-- ip: midamerican meter that need to be pulled and read -- orgnl:  ings input for \n",
            "\n",
            "-- ip: japan power plant statement read we will keep -- prd:  ['ing them out', 'ing similar to', 'ing similar procedures']\n",
            "-- ip: japan power plant statement read we will keep -- orgnl:  you apprised of further \n",
            "\n"
          ],
          "name": "stdout"
        }
      ]
    },
    {
      "cell_type": "markdown",
      "metadata": {
        "id": "PpHKaSh9VAG2"
      },
      "source": [
        "#Attention \r\n"
      ]
    },
    {
      "cell_type": "code",
      "metadata": {
        "id": "roVAyi5MVEC1"
      },
      "source": [
        "class Encoder(tf.keras.layers.Layer):\r\n",
        "\r\n",
        "    def __init__(self,inp_vocab_size,embedding_size,lstm_size,input_length):\r\n",
        "\r\n",
        "        '''\r\n",
        "        Initialize the embedding and LSTM layers in encoder\r\n",
        "        '''\r\n",
        "\r\n",
        "        super().__init__()\r\n",
        "        self.lstm_size = lstm_size\r\n",
        "        self.embedding = Embedding(input_dim=inp_vocab_size, output_dim=embedding_size, input_length=input_length,\r\n",
        "                    mask_zero=True, name=\"embedding_layer_encoder\", weights=[embedding_matrix_enc], trainable=True)\r\n",
        "        # self.embedding = Embedding(input_dim=inp_vocab_size, output_dim=embedding_size, input_length=input_length,\r\n",
        "        #                            mask_zero=True, name=\"embedding_layer_encoder\")\r\n",
        "        self.lstm = LSTM(lstm_size, return_state=True, return_sequences=True, name=\"Encoder_LSTM\")\r\n",
        "        self.lstm_output = 0\r\n",
        "        self.lstm_state_h=0\r\n",
        "        self.lstm_state_c=0\r\n",
        "\r\n",
        "    \r\n",
        "    def call(self,input_sequence):\r\n",
        "        \r\n",
        "        '''\r\n",
        "        Takes input sequence as input, pass it to embedding layer, passes its output to lstm layer and returns the lstm output\r\n",
        "        '''\r\n",
        "        \r\n",
        "        input_embedd = self.embedding(input_sequence)\r\n",
        "        self.lstm_output, self.lstm_state_h,self.lstm_state_c = self.lstm(input_embedd)#,initial_state=states)\r\n",
        "        return self.lstm_output, self.lstm_state_h,self.lstm_state_c\r\n",
        "\r\n",
        " "
      ],
      "execution_count": null,
      "outputs": []
    },
    {
      "cell_type": "code",
      "metadata": {
        "id": "YnrTKwp-VYiv"
      },
      "source": [
        "class Attention(tf.keras.layers.Layer):\r\n",
        "  \r\n",
        "  def __init__(self,scoring_function, enc_units, dec_units,name='attention_layer'):\r\n",
        "    super().__init__(name=name)\r\n",
        "\r\n",
        "    if scoring_function=='dot':\r\n",
        "      self.scoring_function = scoring_function\r\n",
        "      pass\r\n",
        "      \r\n",
        "  def call(self,decoder_hidden_state,encoder_output):\r\n",
        "    \r\n",
        "    '''\r\n",
        "      Attention mechanism takes two inputs current step -- decoder_hidden_state and all the encoder_outputs.\r\n",
        "      * Based on the scoring function we will find the score or similarity between decoder_hidden_state and encoder_output.\r\n",
        "        Multiply the score function with your encoder_outputs to get the context vector.\r\n",
        "        Function returns context vector and attention weights(softmax - scores)\r\n",
        "    '''\r\n",
        "    \r\n",
        "    decoder_hidden_state = tf.expand_dims(decoder_hidden_state, axis=1)\r\n",
        "    if self.scoring_function == 'dot':\r\n",
        "      score = tf.matmul(decoder_hidden_state, encoder_output, transpose_b=True)\r\n",
        "      score = tf.transpose(score,[0,2,1])\r\n",
        "      attention_weights = tf.nn.softmax(score, axis=1)\r\n",
        "      context_vector = tf.reduce_sum(attention_weights*encoder_output,axis=1)\r\n",
        "      return context_vector, attention_weights\r\n",
        "      pass\r\n",
        "\r\n"
      ],
      "execution_count": null,
      "outputs": []
    },
    {
      "cell_type": "code",
      "metadata": {
        "id": "d50VOscTVo6G"
      },
      "source": [
        "class One_Step_Decoder(tf.keras.layers.Layer):\r\n",
        "  def __init__(self,tar_vocab_size, embedding_dim, input_length, dec_units ,score_fun ,enc_units,name='onestep_decoder'):\r\n",
        "      \r\n",
        "      '''Initialize decoder embedding layer, LSTM and any other objects needed'''\r\n",
        "      \r\n",
        "      super().__init__(name=name)\r\n",
        "      self.embedding = Embedding(input_dim=tar_vocab_size, output_dim=embedding_dim, input_length=input_length,\r\n",
        "                          mask_zero=True, name=\"embedding_layer_decoder\", weights=[embedding_matrix_dec], trainable=True)\r\n",
        "      self.lstm = LSTM(dec_units, return_state=True, name=\"Decoder_LSTM\")\r\n",
        "      self.dense = Dense(tar_vocab_size,name='Decoder_dense')\r\n",
        "      self.attention=Attention(score_fun,enc_units,dec_units)\r\n",
        "      self.embedding_dim = embedding_dim\r\n",
        "      self.enc_units = enc_units\r\n",
        "      self.dec_units = dec_units\r\n",
        "      self.score_fun = score_fun\r\n",
        "\r\n",
        "  @tf.function(input_signature=(tf.TensorSpec(shape=[None, 1], dtype=tf.float32),tf.TensorSpec(shape=[None, 16,512], dtype=tf.float32),\r\n",
        "                                tf.TensorSpec(shape=[None, 512], dtype=tf.float32),tf.TensorSpec(shape=[None, 512], dtype=tf.float32)))\r\n",
        "  def call(self,input_to_decoder, encoder_output, state_h,state_c):\r\n",
        "    \r\n",
        "    '''\r\n",
        "    Take input to decoder at a particular step. Pass it to embedding layer, \r\n",
        "    Pass the previous steps hidden state and encoder output (of all steps) as input to attention layer to calculate the context vector\r\n",
        "    concat that context vector with the embedded input and pass that concated matrix as input to lstm \r\n",
        "    pass lstm output to dense layer and return the result\r\n",
        "    '''\r\n",
        "\r\n",
        "    input_embedd = self.embedding(input_to_decoder)\r\n",
        "    context_vector,attention_weights=self.attention(state_h,encoder_output)\r\n",
        "    concat = tf.concat([input_embedd,tf.reshape(context_vector,[-1,1,self.enc_units])], axis=-1)\r\n",
        "    lstm_output, state_h,state_c = self.lstm(concat,initial_state=(state_h,state_c))\r\n",
        "    result = self.dense(lstm_output)\r\n",
        "    return result, state_h,state_c, attention_weights,context_vector\r\n",
        "\r\n"
      ],
      "execution_count": null,
      "outputs": []
    },
    {
      "cell_type": "code",
      "metadata": {
        "id": "tpushSAOV9wV"
      },
      "source": [
        "class Decoder(tf.keras.layers.Layer): \r\n",
        "    def __init__(self,out_vocab_size, embedding_dim, input_length, dec_units ,score_fun ,enc_units,name='decoder_layer'):\r\n",
        "      \r\n",
        "      '''Intialize necessary variables and create an object from the class onestepdecoder'''\r\n",
        "      \r\n",
        "      super().__init__(name=name)\r\n",
        "      self.onestepdecoder = onestepdecoder=One_Step_Decoder(out_vocab_size, embedding_dim, input_length, dec_units ,score_fun ,enc_units) \r\n",
        "     \r\n",
        "    def call(self, input_to_decoder,encoder_output,decoder_hidden_state,decoder_cell_state):\r\n",
        "        \r\n",
        "        '''Pass input to decoder and encoder output and decoder hidden states as input,\r\n",
        "        Use all of them by passing decoder input one by one to generate the words at each step.\r\n",
        "        Store them in a tensorarray and return them'''\r\n",
        "\r\n",
        "        all_outputs = tf.TensorArray(tf.float32, size=tf.shape(input_to_decoder)[1], name='output_arrays')\r\n",
        "        for timestep in range(5): \r\n",
        "            output,decoder_hidden_state,decoder_cell_state,attention_weights,context_vector = self.onestepdecoder(input_to_decoder[:,timestep:timestep+1],encoder_output,decoder_hidden_state,decoder_cell_state)\r\n",
        "            all_outputs = all_outputs.write(timestep,output)\r\n",
        "        all_outputs = tf.transpose(all_outputs.stack(),[1,0,2])\r\n",
        "\r\n",
        "        return all_outputs\r\n",
        "        \r\n",
        "    "
      ],
      "execution_count": null,
      "outputs": []
    },
    {
      "cell_type": "code",
      "metadata": {
        "id": "o50yJuUdgnYh"
      },
      "source": [
        "def custom_lossfunction(targets,logits):\r\n",
        "\r\n",
        "  # Custom loss function that will not consider the loss for padded zeros.\r\n",
        "  # Refer https://www.tensorflow.org/tutorials/text/nmt_with_attention#define_the_optimizer_and_the_loss_function\r\n",
        "  loss_object = tf.keras.losses.SparseCategoricalCrossentropy(from_logits=True, reduction='none')\r\n",
        "  mask = tf.math.logical_not(tf.math.equal(targets, 0))\r\n",
        "  loss_ = loss_object(targets, logits)\r\n",
        "\r\n",
        "  mask = tf.cast(mask, dtype=loss_.dtype)\r\n",
        "  loss_ *= mask\r\n",
        "\r\n",
        "  return tf.reduce_mean(loss_)\r\n",
        "\r\n",
        "tf.keras.losses.custom_loss = custom_lossfunction"
      ],
      "execution_count": null,
      "outputs": []
    },
    {
      "cell_type": "code",
      "metadata": {
        "colab": {
          "base_uri": "https://localhost:8080/"
        },
        "id": "FSepNWDmWOlJ",
        "outputId": "3d32fee1-5c0c-486b-fb54-64214f4904de"
      },
      "source": [
        "'''Create a functional model using the custom layers built above'''\r\n",
        "\r\n",
        "embed_dim = 300\r\n",
        "enc_input_length = max_len_enc\r\n",
        "dec_input_length = max_len_dec\r\n",
        "lstm_units = 512\r\n",
        "\r\n",
        "X_input1 = Input(shape=(max_len_enc,))\r\n",
        "X_input2 = Input(shape=(max_len_dec,))\r\n",
        "X_input3 = Input(shape=(max_len_dec,))\r\n",
        "\r\n",
        "encoder_output, encoder_h, encoder_c = Encoder(inp_vocab_size=vocab_size_enc, embedding_size=embed_dim,\r\n",
        "                                               input_length=enc_input_length, lstm_size = lstm_units)(X_input1)\r\n",
        "decoder_output= Decoder(out_vocab_size=vocab_size_dec, embedding_dim=embed_dim,input_length=dec_input_length,\r\n",
        "                        dec_units= lstm_units ,score_fun='dot' ,enc_units= lstm_units)(X_input2,encoder_output,encoder_h,encoder_c)\r\n",
        "\r\n",
        "model = Model(inputs = [[X_input1,X_input2],X_input3], outputs = decoder_output)\r\n",
        "optimizer = tf.keras.optimizers.Adam()\r\n",
        "model.compile(optimizer=optimizer,loss=custom_lossfunction) \r\n",
        "train_steps=new_data.shape[0]//BATCH_SIZE\r\n",
        "\r\n",
        "history = model.fit(train_dataset, steps_per_epoch=train_steps, epochs=30)"
      ],
      "execution_count": null,
      "outputs": [
        {
          "output_type": "stream",
          "text": [
            "Epoch 1/30\n",
            "762/762 [==============================] - 384s 499ms/step - loss: 4.5603\n",
            "Epoch 2/30\n",
            "762/762 [==============================] - 392s 515ms/step - loss: 3.5188\n",
            "Epoch 3/30\n",
            "762/762 [==============================] - 394s 517ms/step - loss: 2.9885\n",
            "Epoch 4/30\n",
            "762/762 [==============================] - 393s 516ms/step - loss: 2.6516\n",
            "Epoch 5/30\n",
            "762/762 [==============================] - 394s 517ms/step - loss: 2.3829\n",
            "Epoch 6/30\n",
            "762/762 [==============================] - 393s 516ms/step - loss: 2.1561\n",
            "Epoch 7/30\n",
            "762/762 [==============================] - 394s 516ms/step - loss: 1.9598\n",
            "Epoch 8/30\n",
            "762/762 [==============================] - 392s 515ms/step - loss: 1.7932\n",
            "Epoch 9/30\n",
            "762/762 [==============================] - 394s 517ms/step - loss: 1.6455\n",
            "Epoch 10/30\n",
            "762/762 [==============================] - 394s 517ms/step - loss: 1.5140\n",
            "Epoch 11/30\n",
            "762/762 [==============================] - 392s 514ms/step - loss: 1.3934\n",
            "Epoch 12/30\n",
            "762/762 [==============================] - 393s 516ms/step - loss: 1.2848\n",
            "Epoch 13/30\n",
            "762/762 [==============================] - 393s 516ms/step - loss: 1.1857\n",
            "Epoch 14/30\n",
            "762/762 [==============================] - 393s 515ms/step - loss: 1.0975\n",
            "Epoch 15/30\n",
            "762/762 [==============================] - 394s 517ms/step - loss: 1.0147\n",
            "Epoch 16/30\n",
            "762/762 [==============================] - 393s 516ms/step - loss: 0.9425\n",
            "Epoch 17/30\n",
            "762/762 [==============================] - 393s 516ms/step - loss: 0.8730\n",
            "Epoch 18/30\n",
            "762/762 [==============================] - 394s 517ms/step - loss: 0.8107\n",
            "Epoch 19/30\n",
            "762/762 [==============================] - 395s 518ms/step - loss: 0.7530\n",
            "Epoch 20/30\n",
            "762/762 [==============================] - 393s 516ms/step - loss: 0.7022\n",
            "Epoch 21/30\n",
            "762/762 [==============================] - 394s 517ms/step - loss: 0.6505\n",
            "Epoch 22/30\n",
            "762/762 [==============================] - 393s 516ms/step - loss: 0.6026\n",
            "Epoch 23/30\n",
            "762/762 [==============================] - 393s 516ms/step - loss: 0.5610\n",
            "Epoch 24/30\n",
            "762/762 [==============================] - 393s 515ms/step - loss: 0.5247\n",
            "Epoch 25/30\n",
            "762/762 [==============================] - 394s 517ms/step - loss: 0.4909\n",
            "Epoch 26/30\n",
            "762/762 [==============================] - 393s 516ms/step - loss: 0.4554\n",
            "Epoch 27/30\n",
            "762/762 [==============================] - 393s 516ms/step - loss: 0.4257\n",
            "Epoch 28/30\n",
            "762/762 [==============================] - 395s 518ms/step - loss: 0.4019\n",
            "Epoch 29/30\n",
            "762/762 [==============================] - 394s 517ms/step - loss: 0.3768\n",
            "Epoch 30/30\n",
            "762/762 [==============================] - 394s 517ms/step - loss: 0.3506\n"
          ],
          "name": "stdout"
        }
      ]
    },
    {
      "cell_type": "code",
      "metadata": {
        "id": "bEQ5MnD-ypFL",
        "colab": {
          "base_uri": "https://localhost:8080/"
        },
        "outputId": "262cba77-70b7-4b2c-c68f-bb74b7e1a433"
      },
      "source": [
        "history = model.fit(train_dataset, steps_per_epoch=train_steps, epochs=5)"
      ],
      "execution_count": null,
      "outputs": [
        {
          "output_type": "stream",
          "text": [
            "Epoch 1/5\n",
            "762/762 [==============================] - 388s 509ms/step - loss: 0.2306\n",
            "Epoch 2/5\n",
            "762/762 [==============================] - 398s 522ms/step - loss: 0.2180\n",
            "Epoch 3/5\n",
            "762/762 [==============================] - 397s 521ms/step - loss: 0.2082\n",
            "Epoch 4/5\n",
            "762/762 [==============================] - 397s 522ms/step - loss: 0.1979\n",
            "Epoch 5/5\n",
            "762/762 [==============================] - 398s 522ms/step - loss: 0.1917\n"
          ],
          "name": "stdout"
        }
      ]
    },
    {
      "cell_type": "code",
      "metadata": {
        "colab": {
          "base_uri": "https://localhost:8080/",
          "height": 350
        },
        "id": "k6G8ov5jOgFu",
        "outputId": "9089fdfc-e2ee-4281-f559-9cb8733baf36"
      },
      "source": [
        "# Plot training & validation iou_score values\r\n",
        "import matplotlib.pyplot as plt\r\n",
        "plt.figure(figsize=(10, 5))\r\n",
        "plt.plot(history.history['loss'])\r\n",
        "plt.title('Model loss')\r\n",
        "plt.ylabel('Loss')\r\n",
        "plt.xlabel('Epoch')\r\n",
        "plt.legend(['Train'], loc='upper left')\r\n",
        "plt.show()"
      ],
      "execution_count": null,
      "outputs": [
        {
          "output_type": "display_data",
          "data": {
            "image/png": "[encoded data removed]",
            "text/plain": [
              "<Figure size 720x360 with 1 Axes>"
            ]
          },
          "metadata": {
            "tags": [],
            "needs_background": "light"
          }
        }
      ]
    },
    {
      "cell_type": "code",
      "metadata": {
        "colab": {
          "base_uri": "https://localhost:8080/"
        },
        "id": "nGYeJy8eeAyd",
        "outputId": "43a6f9ca-9eab-4202-ef7d-0b395b657992"
      },
      "source": [
        "model.save('final_attention_subject_upd')"
      ],
      "execution_count": null,
      "outputs": [
        {
          "output_type": "stream",
          "text": [
            "WARNING:absl:Found untraced functions such as embedding_layer_encoder_layer_call_fn, embedding_layer_encoder_layer_call_and_return_conditional_losses, embedding_layer_encoder_layer_call_fn, embedding_layer_encoder_layer_call_and_return_conditional_losses, embedding_layer_encoder_layer_call_and_return_conditional_losses while saving (showing 5 of 15). These functions will not be directly callable after loading.\n",
            "WARNING:absl:Found untraced functions such as embedding_layer_encoder_layer_call_fn, embedding_layer_encoder_layer_call_and_return_conditional_losses, embedding_layer_encoder_layer_call_fn, embedding_layer_encoder_layer_call_and_return_conditional_losses, embedding_layer_encoder_layer_call_and_return_conditional_losses while saving (showing 5 of 15). These functions will not be directly callable after loading.\n"
          ],
          "name": "stderr"
        },
        {
          "output_type": "stream",
          "text": [
            "INFO:tensorflow:Assets written to: final_attention_subject_upd/assets\n"
          ],
          "name": "stdout"
        },
        {
          "output_type": "stream",
          "text": [
            "INFO:tensorflow:Assets written to: final_attention_subject_upd/assets\n"
          ],
          "name": "stderr"
        }
      ]
    },
    {
      "cell_type": "code",
      "metadata": {
        "id": "Qz1wcS_thTHu"
      },
      "source": [
        "loaded_model_att = tf.keras.models.load_model('final_attention_subject_upd',custom_objects={'custom_lossfunction':custom_lossfunction})"
      ],
      "execution_count": null,
      "outputs": []
    },
    {
      "cell_type": "code",
      "metadata": {
        "colab": {
          "base_uri": "https://localhost:8080/"
        },
        "id": "Bc5eygLWrclh",
        "outputId": "5b880e1a-760a-4dfc-9dd6-f1d20cc64ebd"
      },
      "source": [
        "loaded_model_att.summary()"
      ],
      "execution_count": null,
      "outputs": [
        {
          "output_type": "stream",
          "text": [
            "Model: \"model\"\n",
            "__________________________________________________________________________________________________\n",
            "Layer (type)                    Output Shape         Param #     Connected to                     \n",
            "==================================================================================================\n",
            "input_4 (InputLayer)            [(None, 16)]         0                                            \n",
            "__________________________________________________________________________________________________\n",
            "input_5 (InputLayer)            [(None, 5)]          0                                            \n",
            "__________________________________________________________________________________________________\n",
            "encoder_1 (Encoder)             ((None, 16, 512), (N 15132924    input_4[0][0]                    \n",
            "__________________________________________________________________________________________________\n",
            "input_6 (InputLayer)            [(None, 5)]          0                                            \n",
            "__________________________________________________________________________________________________\n",
            "decoder_layer (Decoder)         (None, None, 34335)  30627955    input_5[0][0]                    \n",
            "                                                                 encoder_1[0][2]                  \n",
            "                                                                 encoder_1[0][1]                  \n",
            "                                                                 encoder_1[0][0]                  \n",
            "==================================================================================================\n",
            "Total params: 45,760,879\n",
            "Trainable params: 45,760,879\n",
            "Non-trainable params: 0\n",
            "__________________________________________________________________________________________________\n"
          ],
          "name": "stdout"
        }
      ]
    },
    {
      "cell_type": "code",
      "metadata": {
        "id": "fOLkahUYhZ0I"
      },
      "source": [
        "def predict(input_sentence,model):\r\n",
        "  \r\n",
        "  '''\r\n",
        "  Given an input sentence, we need to predict the next words.\r\n",
        "  Tokenize and pad the input sentence,\r\n",
        "  Pass it to encoder's embedding layer and its output to encoder's LSTM layer.\r\n",
        "  Pass its final states hidden and cell states as inputs to decoder's LSTM\r\n",
        "  Pass the encoder's output of all time steps as input to one step decoder to calculate context vector using attention weights\r\n",
        "  Append that context vector with decoder's current step to predict the next time steps output.\r\n",
        "  Before that, initialize <start> word and pass it to decoders embedding layer and then to LSTM layer,\r\n",
        "  We run a loop till we get <end> word.\r\n",
        "  We give predicted word at decoder's current step as input to its next step.\r\n",
        "  '''\r\n",
        "\r\n",
        "  encoder_test_tokens = tokenizer_encoder.texts_to_sequences([input_sentence])\r\n",
        "  padded_encoder_input = pad_sequences(encoder_test_tokens, maxlen=16, dtype='float32', padding='post')\r\n",
        "  encoder = model.layers[2]\r\n",
        "  encoder_op, enc_h, enc_c = encoder(padded_encoder_input)\r\n",
        "  decoder = model.layers[4]\r\n",
        "  index_of_start = np.array(tokenizer_decoder.word_index['<start>']).reshape(1,1).astype('float32')\r\n",
        "  pred=0\r\n",
        "  sentence = []\r\n",
        "  attention_weights=[]\r\n",
        "  # att_wgts = tf.TensorArray(dtype=tf.float32, dynamic_size=True,size=0)\r\n",
        "  while pred!=tokenizer_decoder.word_index['<end>']:\r\n",
        "    predicted_out,enc_h, enc_c,attention,context_vector = decoder.onestepdecoder(index_of_start,encoder_op, enc_h, enc_c)\r\n",
        "    pred = np.argmax(predicted_out) \r\n",
        "    word = [k for k in tokenizer_decoder.word_index if tokenizer_decoder.word_index[k]==(pred)][0]\r\n",
        "    sentence.append(word)\r\n",
        "    index_of_start = np.array(pred).reshape(1,1).astype('float32')\r\n",
        "\r\n",
        "  return ' '.join(sentence[:-1])"
      ],
      "execution_count": null,
      "outputs": []
    },
    {
      "cell_type": "code",
      "metadata": {
        "id": "QfsZcYgfQHSk",
        "colab": {
          "base_uri": "https://localhost:8080/"
        },
        "outputId": "a8051980-3187-4c96-f7d0-148c185bad77"
      },
      "source": [
        "import numpy as np\r\n",
        "sample = new_data.sample(100000,random_state=42)\r\n",
        "import nltk.translate.bleu_score as bleu\r\n",
        "from tqdm import tqdm\r\n",
        "incorrect_predictions_att=[]\r\n",
        "for i in tqdm(sample.index):\r\n",
        "  predicted = predict(new_data.loc[i]['input'],loaded_model_att)\r\n",
        "  predicted_sent = predicted.split()\r\n",
        "  original = [x for x in new_data.loc[i]['decoder_input'].split() if x!='<start>']\r\n",
        "  if bleu.sentence_bleu([original],predicted_sent)<0.2:\r\n",
        "    incorrect_predictions_att.append((new_data.loc[i]['input'],' '.join(original),predicted))\r\n"
      ],
      "execution_count": null,
      "outputs": [
        {
          "output_type": "stream",
          "text": [
            "100%|██████████| 100000/100000 [1:23:01<00:00, 20.07it/s]\n"
          ],
          "name": "stderr"
        }
      ]
    },
    {
      "cell_type": "code",
      "metadata": {
        "colab": {
          "base_uri": "https://localhost:8080/"
        },
        "id": "qZOFJNx5XglE",
        "outputId": "f4ca0a29-cd88-4105-8bac-2b620dec5b2e"
      },
      "source": [
        "for i in range(20,40):\r\n",
        "  print(incorrect_predictions_att[i][0],\"_\",incorrect_predictions_att[i][1],'_',incorrect_predictions_att[i][2])"
      ],
      "execution_count": null,
      "outputs": [
        {
          "output_type": "stream",
          "text": [
            "hard lessons from california if you have any _ questions do not _ thing off the\n",
            "congrats i met bro _ wn at a _ ker last week\n",
            "charts i am for _ wading some charts _ ward on the\n",
            "cuts by the ciso please refer to transalta _ tag numbers w _ an thomas northern\n",
            "counterparties western gas resources anyone _ please let me _ ng it is\n",
            "behavior update i did not assign _ her a consequence _ ed to anything\n",
            "delano for sunday monday when you contact the control room please _ only speak in _ ed our settlements\n",
            "baby shower just kidding hope you _ all are doing _ can not find\n",
            "nobody scheduled on day shift please let me know _ what you would _ when these are\n",
            "sorry sean just changed this _ deal from _ ed to sell\n",
            "omnibus revisions we may come _ up with more omnibus _ back out as to\n",
            "l visa documents my address is as follows barry _ tycholiz c o enron _ ton mark e\n",
            "island ecn inc. confidentiality agreement please find attached a copy _ of the _ for his\n",
            "undeliverable var rate sheet o enron ou _ na cn recipients cn _ ks llc work\n",
            "i ll be late there is now a _ meeting at pm _ est market in\n",
            "penalty charges the trader over there is _ jb smith _ an average\n",
            "geodes desertusa please print out this page _ about geodes _ and use\n",
            "thanks. ben thanks for having _ us up to _ one on my\n",
            "here it is... mark did rece _ ive your email _ ived tiger natural\n",
            "doyle equity earnings loss i am now told that he will not _ sell doyle _ hing the books\n"
          ],
          "name": "stdout"
        }
      ]
    },
    {
      "cell_type": "code",
      "metadata": {
        "id": "HhY3Q-YDF7oi"
      },
      "source": [
        "import pickle\r\n",
        "outfile = open('incorrect_preds_att.pkl','wb')\r\n",
        "pickle.dump(incorrect_predictions_att,outfile)\r\n",
        "outfile.close()"
      ],
      "execution_count": null,
      "outputs": []
    },
    {
      "cell_type": "code",
      "metadata": {
        "colab": {
          "base_uri": "https://localhost:8080/"
        },
        "id": "7i5LtR9XQT_r",
        "outputId": "afb853b2-fc88-487f-edd5-8d8c4d2f5553"
      },
      "source": [
        "\r\n",
        "import matplotlib.pyplot as plt\r\n",
        "import numpy as np\r\n",
        "sample = new_data.sample(1000)\r\n",
        "import nltk.translate.bleu_score as bleu\r\n",
        "\r\n",
        "blue_scores=[]\r\n",
        "for n,i in enumerate(sample.index):\r\n",
        "  input_sentence = sample.loc[i]['input']\r\n",
        "  predicted = predict(input_sentence,loaded_model_att)\r\n",
        "  predicted = predicted.split()\r\n",
        "  original = [x for x in sample.loc[i]['decoder_input'].split() if x!='<start>']\r\n",
        "  if n in range(50):\r\n",
        "    print('-- ip:',new_data.loc[i]['input'],'-- prd: ' ,' '.join(predicted))\r\n",
        "    print('-- ip:',new_data.loc[i]['input'],'-- orgnl: ' ,' '.join(original),'\\n')\r\n",
        "\r\n",
        "  blue_scores.append(bleu.sentence_bleu([original],predicted))\r\n",
        "\r\n",
        "np.mean(blue_scores)"
      ],
      "execution_count": null,
      "outputs": [
        {
          "output_type": "stream",
          "text": [
            "-- ip: materials for scott mcnealy does that work for you best dasovi -- prd:  ch enron corp\n",
            "-- ip: materials for scott mcnealy does that work for you best dasovi -- orgnl:  ch enron corp \n",
            "\n",
            "-- ip: action required time entry due if you have log prob -- prd:  lems call the\n",
            "-- ip: action required time entry due if you have log prob -- orgnl:  lems call the \n",
            "\n",
            "-- ip: loss of a leader i want to see this -- prd:  but we\n",
            "-- ip: loss of a leader i want to see this -- orgnl:  house you \n",
            "\n",
            "-- ip: erv please shout with questio -- prd:  ns or concerns\n",
            "-- ip: erv please shout with questio -- orgnl:  ns or concerns \n",
            "\n",
            "-- ip: salmon energy records delta power do one of you gentlemen have this we are getting -- prd:  them for signature\n",
            "-- ip: salmon energy records delta power do one of you gentlemen have this we are getting -- orgnl:  close to closing \n",
            "\n",
            "-- ip: fw comments on footnotes sent from my wirele -- prd:  ss handheld www\n",
            "-- ip: fw comments on footnotes sent from my wirele -- orgnl:  ss handheld www \n",
            "\n",
            "-- ip: inland paperboard changes in whata -- prd:  yathink i will\n",
            "-- ip: inland paperboard changes in whata -- orgnl:  yathink i will \n",
            "\n",
            "-- ip: lower colorado river authority the document will scan -- prd:  ned into the\n",
            "-- ip: lower colorado river authority the document will scan -- orgnl:  ned into livelink \n",
            "\n",
            "-- ip: test are you there sent from my wirel -- prd:  ess handheld www\n",
            "-- ip: test are you there sent from my wirel -- orgnl:  ess handheld www \n",
            "\n",
            "-- ip: bear guarantee letter i had asked him about when they will execut -- prd:  ing these documents\n",
            "-- ip: bear guarantee letter i had asked him about when they will execut -- orgnl:  ing the agreement \n",
            "\n",
            "-- ip: phelps dodge the same percentage decrease in dem -- prd:  and is what\n",
            "-- ip: phelps dodge the same percentage decrease in dem -- orgnl:  and is what \n",
            "\n",
            "-- ip: enserco l.l.c. richard lauer is requesting that acco -- prd:  unt be opened\n",
            "-- ip: enserco l.l.c. richard lauer is requesting that acco -- orgnl:  unt be opened \n",
            "\n",
            "-- ip: promotion i definately would like nomina -- prd:  te into the\n",
            "-- ip: promotion i definately would like nomina -- orgnl:  te bob superty \n",
            "\n",
            "-- ip: fw real time trader ryan don juan advi -- prd:  se me of\n",
            "-- ip: fw real time trader ryan don juan advi -- orgnl:  se me of \n",
            "\n",
            "-- ip: wti brent trades smith street eb -- prd:  a houston texas phone\n",
            "-- ip: wti brent trades smith street eb -- orgnl:  a houston texas phone \n",
            "\n",
            "-- ip: am i free..... i will miss -- prd:  ing you in\n",
            "-- ip: am i free..... i will miss -- orgnl:  you but go for \n",
            "\n",
            "-- ip: erv notification violation notification memo we are having difficu -- prd:  lty opening notification\n",
            "-- ip: erv notification violation notification memo we are having difficu -- orgnl:  lties with the \n",
            "\n",
            "-- ip: enrononline market descriptions when can expe -- prd:  ct the normal\n",
            "-- ip: enrononline market descriptions when can expe -- orgnl:  ct the remaining \n",
            "\n",
            "-- ip: bid week prices please let me -- prd:  know if you have\n",
            "-- ip: bid week prices please let me -- orgnl:  know if you have \n",
            "\n",
            "-- ip: comercializadora metrogas s.a. de c.v. attached for your approval is -- prd:  a copy of\n",
            "-- ip: comercializadora metrogas s.a. de c.v. attached for your approval is -- orgnl:  the form \n",
            "\n",
            "-- ip: gisb as previously discussed please see attac -- prd:  hed draft of\n",
            "-- ip: gisb as previously discussed please see attac -- orgnl:  hed gisb draft \n",
            "\n",
            "-- ip: caledonia brownsville schedules thanks for everyone is -- prd:  looking for me\n",
            "-- ip: caledonia brownsville schedules thanks for everyone is -- orgnl:  help with the \n",
            "\n",
            "-- ip: court koenning victoria do yah -- prd:  oo send new\n",
            "-- ip: court koenning victoria do yah -- orgnl:  oo send online \n",
            "\n",
            "-- ip: aspect contracts sorry for the delay on this jill i -- prd:  am taking vacation this\n",
            "-- ip: aspect contracts sorry for the delay on this jill i -- orgnl:  was out \n",
            "\n",
            "-- ip: are we going to discuss these with lavo before he -- prd:  firmed the loves\n",
            "-- ip: are we going to discuss these with lavo before he -- orgnl:  makes a decision \n",
            "\n",
            "-- ip: gas counterparties please check metromed -- prd:  ia energy inc\n",
            "-- ip: gas counterparties please check metromed -- orgnl:  ia energy inc \n",
            "\n",
            "-- ip: new ews spend approval guidelines if you have questi -- prd:  ons regarding these\n",
            "-- ip: new ews spend approval guidelines if you have questi -- orgnl:  ons regarding these \n",
            "\n",
            "-- ip: transco demand charge transco has agreed to -- prd:  act with the\n",
            "-- ip: transco demand charge transco has agreed to -- orgnl:  bill pse g \n",
            "\n",
            "-- ip: friday morning funny they swoop down hung -- prd:  rily begin eating\n",
            "-- ip: friday morning funny they swoop down hung -- orgnl:  rily begin eating \n",
            "\n",
            "-- ip: nov pnr billing tw attached is deta -- prd:  il for our\n",
            "-- ip: nov pnr billing tw attached is deta -- orgnl:  il for park \n",
            "\n",
            "-- ip: ivey alumni calgary event nov laurel i have transfe -- prd:  rred to houston\n",
            "-- ip: ivey alumni calgary event nov laurel i have transfe -- orgnl:  rred to houston \n",
            "\n",
            "-- ip: esource presents free lexis nexis if you do not have one a -- prd:  se contact fax\n",
            "-- ip: esource presents free lexis nexis if you do not have one a -- orgnl:  guest id will \n",
            "\n",
            "-- ip: bike commute challenge tully trade floor port -- prd:  land desk cell\n",
            "-- ip: bike commute challenge tully trade floor port -- orgnl:  land desk cell \n",
            "\n",
            "-- ip: curve verification ercot do you have this information i tal -- prd:  ked to peggy\n",
            "-- ip: curve verification ercot do you have this information i tal -- orgnl:  ked to peggy \n",
            "\n",
            "-- ip: dynegy ice vol apr matt motsinger emb -- prd:  edded picture metafile\n",
            "-- ip: dynegy ice vol apr matt motsinger emb -- orgnl:  edded picture metafile \n",
            "\n",
            "-- ip: transport and logistics customer happy the new date thur -- prd:  sday is attached\n",
            "-- ip: transport and logistics customer happy the new date thur -- orgnl:  sday october th \n",
            "\n",
            "-- ip: aram sogomonian phone w w -- prd:  h w h\n",
            "-- ip: aram sogomonian phone w w -- orgnl:  c h \n",
            "\n",
            "-- ip: phillip here is your holiday this is an mail -- prd:  ing sent from\n",
            "-- ip: phillip here is your holiday this is an mail -- orgnl:  ing this message \n",
            "\n",
            "-- ip: tx rec sample confirm ercot awards recs -- prd:  on quarterly caps\n",
            "-- ip: tx rec sample confirm ercot awards recs -- orgnl:  on a quarterly basis \n",
            "\n",
            "-- ip: conference call a draft will circul -- prd:  ated before the\n",
            "-- ip: conference call a draft will circul -- orgnl:  ated before the \n",
            "\n",
            "-- ip: peaker turbine nominal output we will have to use corrected numbers unless info -- prd:  rmation becomes available\n",
            "-- ip: peaker turbine nominal output we will have to use corrected numbers unless info -- orgnl:  rmation becomes available \n",
            "\n",
            "-- ip: enron na agreement comments i hope we fini -- prd:  sh up your\n",
            "-- ip: enron na agreement comments i hope we fini -- orgnl:  sh up next \n",
            "\n",
            "-- ip: a few comments i think mak -- prd:  es sense sense\n",
            "-- ip: a few comments i think mak -- orgnl:  es sense to \n",
            "\n",
            "-- ip: meeting with teb rob and pst alice weekley enron -- prd:  end and development\n",
            "-- ip: meeting with teb rob and pst alice weekley enron -- orgnl:  development wants you \n",
            "\n",
            "-- ip: ets intercompany billing invoices by attached are bil -- prd:  led by p\n",
            "-- ip: ets intercompany billing invoices by attached are bil -- orgnl:  ling invoices by \n",
            "\n",
            "-- ip: citizens let me know if you -- prd:  have any\n",
            "-- ip: citizens let me know if you -- orgnl:  need anything \n",
            "\n",
            "-- ip: tw supply this list does not include the availab -- prd:  le that was\n",
            "-- ip: tw supply this list does not include the availab -- orgnl:  le from interconnects \n",
            "\n",
            "-- ip: term sheet for agreement i have not -- prd:  received it yet but\n",
            "-- ip: term sheet for agreement i have not -- orgnl:  yet heard from goldberg \n",
            "\n",
            "-- ip: updated reserving capacity for current requests for future dated realig -- prd:  nments on firm\n",
            "-- ip: updated reserving capacity for current requests for future dated realig -- orgnl:  nments on firm \n",
            "\n",
            "-- ip: the ferc staff report on bulk power markets is available at the web -- prd:  site http www\n",
            "-- ip: the ferc staff report on bulk power markets is available at the web -- orgnl:  site http www \n",
            "\n"
          ],
          "name": "stdout"
        },
        {
          "output_type": "execute_result",
          "data": {
            "text/plain": [
              "0.7284194247955131"
            ]
          },
          "metadata": {
            "tags": []
          },
          "execution_count": 53
        }
      ]
    },
    {
      "cell_type": "code",
      "metadata": {
        "id": "PeVP8WdhQ5_S"
      },
      "source": [
        "import copy\r\n",
        "def beam_predict(input_sentence,model):\r\n",
        "\r\n",
        "  '''\r\n",
        "  Follow the same steps as normal predict function till generating encoder's output.\r\n",
        "  After that we use beam search logic.\r\n",
        "  Generate top three predictions by passing <start> as input.\r\n",
        "  Pass those 3 words as input to one step decoder along with encoder output and generate top three words for each word.\r\n",
        "  Thus we have total 9 combinatios. We filter out top 3 with high probabilities and \r\n",
        "  pass the last word of that combination to the next step of one step decoder and repeat the process until we encounter <end> in three sentences\r\n",
        "  '''\r\n",
        "  \r\n",
        "  encoder_test_tokens = tokenizer_encoder.texts_to_sequences([input_sentence])\r\n",
        "  padded_encoder_input = pad_sequences(encoder_test_tokens, maxlen=16, dtype='float32', padding='post')\r\n",
        "  encoder = model.layers[2]\r\n",
        "  encoder_op, enc_h, enc_c = encoder(padded_encoder_input)\r\n",
        "  decoder = model.layers[4]\r\n",
        "  index_of_start = np.array(tokenizer_decoder.word_index['<start>']).reshape(1,1).astype('float32')\r\n",
        "  predicted_out,enc_h, enc_c,attention,context_vector = decoder.onestepdecoder(index_of_start,encoder_op, enc_h, enc_c)\r\n",
        "  state_h, state_c = enc_h,enc_c\r\n",
        "  states = (state_h, state_c)\r\n",
        "  toppred = np.argsort(predicted_out[0])[-3:][::-1]\r\n",
        "  probs = np.sort(predicted_out[0])[-3:][::-1]\r\n",
        "  words = []\r\n",
        "  for pred in toppred:\r\n",
        "    word = [k for k in tokenizer_decoder.word_index if tokenizer_decoder.word_index[k]==pred][0]\r\n",
        "    words.append(word)\r\n",
        "  semi_final = [[probs[0],[toppred[0]],[words[0]],states],[probs[1],[toppred[1]],[words[1]],states],[probs[2],[toppred[2]],[words[2]],states]]\r\n",
        "  finished_sentences = 0\r\n",
        "  final = []\r\n",
        "  while (True):\r\n",
        "    temp = []\r\n",
        "    for i in range(len(semi_final)):\r\n",
        "      # dec_emb= decoder.embedding(semi_final[i][1][-1].reshape(1,1))\r\n",
        "      predicted_out,state_h, state_c,attention,context_vector = decoder.onestepdecoder(semi_final[i][1][-1].reshape(1,1).astype('float32'),\r\n",
        "                                                                                       encoder_op, semi_final[i][-1][0], semi_final[i][-1][1])\r\n",
        "      toppred = np.argsort(predicted_out[0])[-len(semi_final):][::-1]\r\n",
        "      probs = np.sort(predicted_out[0])[-len(semi_final):][::-1]\r\n",
        "      states= (state_h, state_c)\r\n",
        "      for j in range(len(toppred)):\r\n",
        "        word = [k for k in tokenizer_decoder.word_index if tokenizer_decoder.word_index[k]==toppred[j]][0]\r\n",
        "        #temp[str(i)+','+str(j)] = (semi_final[i][0] * probs[j],toppred[j],semi_final[i][2].append(word),states)\r\n",
        "        words = copy.deepcopy(semi_final[i][2])\r\n",
        "        words.append(word)\r\n",
        "        temp.append([semi_final[i][0] * probs[j],[toppred[j]],words,states])\r\n",
        "    temp = sorted(temp,key = lambda x:x[0],reverse=True)[:len(semi_final)]\r\n",
        "    ids_to_be_removed = []\r\n",
        "    for id,k in enumerate(temp):\r\n",
        "      if k[2][-1] == '<end>':\r\n",
        "        final.append((k[0],' '.join(k[2][:-1])))\r\n",
        "        finished_sentences+=1\r\n",
        "        ids_to_be_removed.append(id)\r\n",
        "    for id in ids_to_be_removed:\r\n",
        "      temp[id] = 0\r\n",
        "    temp = [i for i in temp if i!=0]\r\n",
        "    semi_final=temp\r\n",
        "    if finished_sentences == 3:\r\n",
        "      break\r\n",
        "\r\n",
        "  return final"
      ],
      "execution_count": null,
      "outputs": []
    },
    {
      "cell_type": "code",
      "metadata": {
        "colab": {
          "base_uri": "https://localhost:8080/"
        },
        "id": "DyJ8AfzklPwW",
        "outputId": "8462a765-89c5-4435-9c5c-85f78f133b05"
      },
      "source": [
        "sample = new_data.sample(15)\r\n",
        "blue_scores=[]\r\n",
        "for i in sample.index:\r\n",
        "  predicted = beam_predict(new_data.loc[i]['input'],loaded_model_att)\r\n",
        "  original = [x for x in new_data.loc[i]['decoder_input'].split() if x!='<start>']\r\n",
        "  print('-- ip:',new_data.loc[i]['input'],'-- prd: ' ,[x[1] for x in predicted])\r\n",
        "  print('-- ip:',new_data.loc[i]['input'],'-- orgnl: ' ,' '.join(original),'\\n')\r\n"
      ],
      "execution_count": null,
      "outputs": [
        {
          "output_type": "stream",
          "text": [
            "-- ip: executive reports viewer i received an email morni -- prd:  ['ng regarding the', 'ng and represent', 'ng regarding this']\n",
            "-- ip: executive reports viewer i received an email morni -- orgnl:  ng regarding the \n",
            "\n",
            "-- ip: com ed lois i will bring them up for -- prd:  ['initialling once i', 'initialling once we', 'initialling once that']\n",
            "-- ip: com ed lois i will bring them up for -- orgnl:  initialling once i recieve \n",
            "\n",
            "-- ip: conference call gas curtailment and do we have a -- prd:  ['look at it', 'look into it', 'look at the']\n",
            "-- ip: conference call gas curtailment and do we have a -- orgnl:  call in number \n",
            "\n",
            "-- ip: hr issues jae black east trad -- prd:  ['ing assistant to', 'ing support assistant', 'ing assistant to kevin']\n",
            "-- ip: hr issues jae black east trad -- orgnl:  ing assistant to \n",
            "\n",
            "-- ip: stanford mckinsey case study globe talking with skilling cindy vin -- prd:  ['ce kaminski p', 'ce kaminski vince', 'ce kaminski http']\n",
            "-- ip: stanford mckinsey case study globe talking with skilling cindy vin -- orgnl:  ce kaminski mike \n",
            "\n",
            "-- ip: eol credit approvals as requested please -- prd:  ['ed approval forms', 'approve for enrononline oba', 'ed approval forms for']\n",
            "-- ip: eol credit approvals as requested please -- orgnl:  find attached revised approval \n",
            "\n",
            "-- ip: i am not reading -- prd:  ['putting right now', 'putting right out', 'putting right after']\n",
            "-- ip: i am not reading -- orgnl:  that in public \n",
            "\n",
            "-- ip: she has not answered anything other than -- prd:  ['ks becky x', 'ks for asking', 'ks for your']\n",
            "-- ip: she has not answered anything other than -- orgnl:  the program requirements \n",
            "\n",
            "-- ip: updated spares inventory list please overnite origin -- prd:  ['al to me', 'als to me', 'ator to me']\n",
            "-- ip: updated spares inventory list please overnite origin -- orgnl:  al to me \n",
            "\n",
            "-- ip: hpl transition contact list attached is cont -- prd:  ['act list for', 'act information for', 'act list of']\n",
            "-- ip: hpl transition contact list attached is cont -- orgnl:  act list for \n",
            "\n",
            "-- ip: internet sports network inc. a copy will be sent to dave samuels -- prd:  ['for your help', 'for this article', 'for the enron']\n",
            "-- ip: internet sports network inc. a copy will be sent to dave samuels -- orgnl:  for the \n",
            "\n",
            "-- ip: cg e agreements my contacts at cg e have been paul -- prd:  ['jett and', 'jett at', 'jett jett and']\n",
            "-- ip: cg e agreements my contacts at cg e have been paul -- orgnl:  jett and \n",
            "\n",
            "-- ip: vaccine please reserve one flu -- prd:  ['vaccine in for', 'vaccine for at', 'vaccine for mike']\n",
            "-- ip: vaccine please reserve one flu -- orgnl:  vaccine for mike \n",
            "\n",
            "-- ip: ena delta documents revised carolyn please send to counter -- prd:  ['party subject to', 'party original to', 'party regarding the']\n",
            "-- ip: ena delta documents revised carolyn please send to counter -- orgnl:  party subject to \n",
            "\n",
            "-- ip: wednesday meeting any other use of -- prd:  ['your email address', 'the email by', 'the email or']\n",
            "-- ip: wednesday meeting any other use of -- orgnl:  the email by \n",
            "\n"
          ],
          "name": "stdout"
        }
      ]
    },
    {
      "cell_type": "code",
      "metadata": {
        "id": "0RKnc6DMnMDq"
      },
      "source": [
        ""
      ],
      "execution_count": null,
      "outputs": []
    },
    {
      "cell_type": "markdown",
      "metadata": {
        "id": "ikjnslHeN8XR"
      },
      "source": [
        "#Analysis of incorrect predictions from both models"
      ]
    },
    {
      "cell_type": "code",
      "metadata": {
        "id": "9VzsTHFWOAat"
      },
      "source": [
        "import pickle\r\n",
        "infile = open('incorrect_preds.pkl','rb')\r\n",
        "incorrect_predictions = pickle.load(infile)\r\n",
        "infile.close()"
      ],
      "execution_count": 6,
      "outputs": []
    },
    {
      "cell_type": "code",
      "metadata": {
        "id": "KbqwWyztO7Wl"
      },
      "source": [
        "import random\r\n",
        "sampless = random.sample(range(len(incorrect_predictions)), 25)"
      ],
      "execution_count": 21,
      "outputs": []
    },
    {
      "cell_type": "code",
      "metadata": {
        "colab": {
          "base_uri": "https://localhost:8080/"
        },
        "id": "Uiey7sxXOCkG",
        "outputId": "28b35bc7-dd81-4cff-e739-b77ac5d07daa"
      },
      "source": [
        "for i in sampless:\r\n",
        "  print(incorrect_predictions[i][0],\"_\",incorrect_predictions[i][1],'_',incorrect_predictions[i][2])"
      ],
      "execution_count": 22,
      "outputs": [
        {
          "output_type": "stream",
          "text": [
            "legal agreement status from aneela i realize cheryl has been working on _ some of this _ today is cell\n",
            "project granite update thanks mitch paul kaufman ect _ pm to _ ric fax\n",
            "dow jones article re eei i will call _ mark golden to respond _ ing new counterparties\n",
            "ut update please let me know by friday if you _ plan to _ have any\n",
            "hey you are won _ derful person by _ dering how all\n",
            "wellhead meeting ed mcmichael would _ like to have a _ ing for another\n",
            "therefore you will soon _ have the option _ er for or\n",
            "structured sales to ca chris thanks a lot for the info and _ the help _ rew energy manager\n",
            "aol messenger.. ok now what _ i signed up downloaded _ all now is now\n",
            "green card permanent resident alien best regards bobbi international human resources telephone _ work space eb _ phone fax pager\n",
            "ca iso newsflash on dg i spoke with the ca _ iso attorney _ ence in europe\n",
            "puc public participation hearing to participate you must arrive early and _ sign in to _ rea for further\n",
            "fw super bowl you were all chosen for _ a reason _ ward to\n",
            "demand charges and pricing for jeff we should probably _ chat about the _ start this alternative\n",
            "possible candidate please forward to _ appropriate parties if there _ anyone soon\n",
            "dr.evil just heard some _ austin powers sound bites _ thing about it\n",
            "days left to make your thanks again for _ your support and participation _ ward to working\n",
            "ebs clec meeting hi sue you are _ correct that we _ going to be\n",
            "i will try _ to find out more _ ing you and\n",
            "bravo natural resources please prepare an amendment per terms of _ this credit worksheet _ the enron guaranty\n",
            "in my savings plan _ matching other ideas _ ned million of\n",
            "i did not get home _ until late _ tix after work\n",
            "george w is new limo thought you might _ be able to appreciate _ try and play golf\n",
            "research group move to the be sure to ever _ ything with your _ yone in the\n",
            "aps to pinnacle west we have been _ getting a lot of _ selected with these people\n"
          ],
          "name": "stdout"
        }
      ]
    },
    {
      "cell_type": "code",
      "metadata": {
        "id": "LTUm-7fCTref"
      },
      "source": [
        "infile = open('incorrect_preds_att.pkl','rb')\r\n",
        "incorrect_predictions_att = pickle.load(infile)\r\n",
        "infile.close()"
      ],
      "execution_count": 14,
      "outputs": []
    },
    {
      "cell_type": "code",
      "metadata": {
        "id": "suwk78t5YDPq"
      },
      "source": [
        "import random\r\n",
        "sampless_att = random.sample(range(len(incorrect_predictions_att)), 25)"
      ],
      "execution_count": 19,
      "outputs": []
    },
    {
      "cell_type": "code",
      "metadata": {
        "colab": {
          "base_uri": "https://localhost:8080/"
        },
        "id": "1W6xO6iHSL2Y",
        "outputId": "25888ddc-ef6e-4976-f909-9e9aaf9ad9eb"
      },
      "source": [
        "for i in sampless_att:\r\n",
        "  print(incorrect_predictions_att[i][0],\"_\",incorrect_predictions_att[i][1],'_',incorrect_predictions_att[i][2])"
      ],
      "execution_count": 20,
      "outputs": [
        {
          "output_type": "stream",
          "text": [
            "congratulations sally i just read the _ email announcing _ re from origination\n",
            "land option new york correct on the edgecombe _ north carolina thing _ ent z basis\n",
            "marking chairs we will let you know when this will _ take place _ not be processed\n",
            "weather review the weather sho _ uld be cash _ ws those authority\n",
            "please please please it is a potato peeler _ my favorite _ one for the\n",
            "wellhead deals changed daren o neal the attached spreadsheet represents _ deal volumes changed _ the gas valuation\n",
            "fw top imbalances for october bcf long to the pipe _ position on _ line for the\n",
            "ipams legal legislative and regulatory committee will _ meet wednesday november _ iams through monday\n",
            "legal support for sao paulo do you still _ want to do it _ have any thoughts or\n",
            "phone for steve sorry the on his _ printed itinerary was _ age look at\n",
            "share information about yourself create _ your own _ ed at http\n",
            "dept. of justice interview eol haedicke said you knew about _ this and _ one is reference\n",
            "liz are dia _ monds still available _ mond level hire\n",
            "web file it should be called _ kern expansion economics _ and flash plans\n",
            "reliant q eol gd nymex can you adjust _ in tagg thanks joe _ ed to this\n",
            "items for discussion price risk i have a _ lot of files organized _ ized similar for\n",
            "com cc subject where _ is my buddy _ i do not\n",
            "cash move john please print sign and return in the envelope you _ send us tomorrow _ approve them for\n",
            "fw set the hook who is up for _ an offshore fishing _ warded on my\n",
            "can you come early satan is on tra _ il fast and _ ding or something\n",
            "christmas party we have a _ long way to go _ lot of him at\n",
            "bridgeline cash use approval request attached below is the cash _ use approval _ eadsheet for november\n",
            "vlady i can not _ believe you finally got _ get it until i\n",
            "so no messages from you _ all day _ rs your family\n",
            "perfect.com i hope we get to talk some more and exchange _ ideas about b _ people to help\n"
          ],
          "name": "stdout"
        }
      ]
    },
    {
      "cell_type": "markdown",
      "metadata": {
        "id": "ieiW5y8xPSl_"
      },
      "source": [
        "From the examples above from both normal encoder decoder model and attention model, we can see multiple cases,\r\n"
      ]
    },
    {
      "cell_type": "markdown",
      "metadata": {
        "id": "1lzbMy65Dbnv"
      },
      "source": [
        "Input | Original | Predicted"
      ]
    },
    {
      "cell_type": "markdown",
      "metadata": {
        "id": "UYas6psFCPXU"
      },
      "source": [
        "##Prediction is better than the original\r\n",
        "\r\n",
        "  - can you send me an _ enail with _ email confirming\r\n",
        "\r\n",
        "  - we had to leave _ the severance date _ a few hours\r\n",
        "\r\n",
        "  - new deal check out model can you schedule minutes after _ trading on _ noon to\r\n",
        "\r\n",
        "  - i also need the _ delivery points for _ se up to\r\n",
        "\r\n",
        "- possible candidate please forward to _ appropriate parties if there _ anyone soon\r\n",
        "\r\n",
        "\r\n",
        "\r\n"
      ]
    },
    {
      "cell_type": "markdown",
      "metadata": {
        "id": "WYLSA6iJCT0F"
      },
      "source": [
        "## Since the sentence was long, model wasn't able to learn properly\r\n",
        "\r\n",
        "  - eol hold list for global the counterparties replacing these entities are still being reviewed by credit _ legal and contracts _ on enron corp\r\n",
        "\r\n",
        "  - hpl meter hughes cmp currently these volumes are being recorded to _ the hpl strangers _ gas counterparties\r\n",
        "\r\n",
        "- no management committee meeting on afternoon there will not be a meeting _ on tuesday following _ ing the nov\r\n"
      ]
    },
    {
      "cell_type": "markdown",
      "metadata": {
        "id": "I3QXTO8GCT-P"
      },
      "source": [
        "## Prediction is also meaningful as original but both doesn't match\r\n",
        "\r\n",
        "  - hey matt i gave her my digits and _ told her to call _ my number is\r\n",
        "\r\n",
        "  - dabhol steve please look at the _ link below _ se comments back\r\n",
        "\r\n",
        "  - i really meant to call you back _ but could not _ to work on\r\n",
        "\r\n",
        "  - how are you feeling i _ hope well _ am coming\r\n",
        "\r\n",
        "  - share information about yourself create _ your own _ ed at http\r\n",
        "\r\n",
        "  - do you yahoo find a _ job post _ great connection\r\n",
        "\r\n",
        "\r\n"
      ]
    },
    {
      "cell_type": "markdown",
      "metadata": {
        "id": "XvNs2NukCilQ"
      },
      "source": [
        "##The input or original is rare to occur i.e. so specific\r\n",
        "\r\n",
        "  - tagg exchange users the users i would start with _ are todd warwick frank _ out a little point\r\n",
        "\r\n",
        "  - mobil beaumont rebecca i spoke with brian nichols about the _ august preliminary _ online matter\r\n",
        "\r\n",
        "- pg e filed testimony and i will forward our protest _ and iep _ ing this morning\r\n",
        "\r\n",
        "- ena vng contract leg mdq z i might be looking _ in the wrong _ ing with this\r\n",
        "\r\n",
        "- what are the klan is tow _ ard asians lc _ er at el\r\n",
        "\r\n",
        "- analyst and associate dinner august no later than close _ of business monday _ ing the hour\r\n",
        "\r\n"
      ]
    },
    {
      "cell_type": "markdown",
      "metadata": {
        "id": "VUj3izdkCnJP"
      },
      "source": [
        "##Some examples look easy but model didn't predict well\r\n",
        "\r\n",
        "  - i think you said tomorrow at pm would _ work for _ ing to turn\r\n",
        "\r\n",
        "  - new email id therefore please update _ your address books to _ ation on my\r\n",
        "  \r\n",
        "  - real option conference i would like to attend _ this conference _ ing the above\r\n",
        "\r\n",
        "- invoices i was planning _ on calling you after _ ing for jeff\r\n",
        "\r\n",
        "- i will try _ to find out more _ ing you and\r\n",
        "\r\n",
        "\r\n"
      ]
    },
    {
      "cell_type": "code",
      "metadata": {
        "id": "G0FQb4HSCOYp"
      },
      "source": [
        ""
      ],
      "execution_count": null,
      "outputs": []
    },
    {
      "cell_type": "code",
      "metadata": {
        "id": "tZkE5O3KSRGJ"
      },
      "source": [
        ""
      ],
      "execution_count": null,
      "outputs": []
    }
  ]
}